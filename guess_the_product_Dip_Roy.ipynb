{
  "nbformat": 4,
  "nbformat_minor": 0,
  "metadata": {
    "colab": {
      "provenance": []
    },
    "kernelspec": {
      "name": "python3",
      "display_name": "Python 3"
    },
    "language_info": {
      "name": "python"
    }
  },
  "cells": [
    {
      "cell_type": "markdown",
      "source": [
        "<h1>Introduction:</h1> \n",
        "\n",
        "\n",
        "*   <b>In the given dataset invoice details by product description and category is presented.</b>\n",
        "\n",
        "\n",
        "\n",
        "<h1>Problem statement:</h1>\n",
        "\n",
        "\n",
        "*   <b>Issue in identifying product category basis items.</b>\n",
        "\n",
        "\n",
        "\n",
        "<h1>Solution approach:</h1> \n",
        "\n",
        "*   <b>Our goal is to identify or ascertain the product category basis certain input features.</b>\n",
        "  \n",
        "\n",
        "\n"
      ],
      "metadata": {
        "id": "XqwK9rNugSIi"
      }
    },
    {
      "cell_type": "markdown",
      "source": [
        "# Libraries\n",
        "* <b>Importing required libraries for operation of specific functionalities.</b>\n"
      ],
      "metadata": {
        "id": "-fWMjtDYz4-I"
      }
    },
    {
      "cell_type": "code",
      "execution_count": 19,
      "metadata": {
        "colab": {
          "base_uri": "https://localhost:8080/"
        },
        "id": "RsI32ZFDxVlf",
        "outputId": "da438528-72c8-4460-f505-427e1f7a4fb2"
      },
      "outputs": [
        {
          "output_type": "stream",
          "name": "stderr",
          "text": [
            "[nltk_data] Downloading package stopwords to /root/nltk_data...\n",
            "[nltk_data]   Package stopwords is already up-to-date!\n",
            "[nltk_data] Downloading package omw-1.4 to /root/nltk_data...\n",
            "[nltk_data]   Package omw-1.4 is already up-to-date!\n",
            "[nltk_data] Downloading package wordnet to /root/nltk_data...\n",
            "[nltk_data]   Package wordnet is already up-to-date!\n"
          ]
        }
      ],
      "source": [
        "# Data Processing Libraries\n",
        "import numpy as np\n",
        "import pandas as pd\n",
        "import matplotlib.pyplot as plt\n",
        "%matplotlib inline\n",
        "import seaborn as sns\n",
        "from matplotlib.pylab import rcParams\n",
        "rcParams['figure.figsize'] = 12,8\n",
        "import warnings\n",
        "warnings.filterwarnings('ignore')\n",
        "\n",
        "#Encoding Library\n",
        "from sklearn.preprocessing import LabelEncoder\n",
        "\n",
        "#Data Cleaning libralies\n",
        "import re\n",
        "import nltk\n",
        "from nltk.corpus import stopwords\n",
        "from nltk.tokenize import word_tokenize\n",
        "nltk.download('stopwords')\n",
        "from nltk.stem import WordNetLemmatizer\n",
        "nltk.download('omw-1.4')\n",
        "nltk.download('wordnet')\n",
        "\n",
        "#Vectorizor\n",
        "from sklearn.feature_extraction.text import TfidfVectorizer\n",
        "\n",
        "# Data Spliting Library\n",
        "from sklearn.model_selection import train_test_split, GridSearchCV\n",
        "\n",
        "#Model Library\n",
        "from xgboost import XGBClassifier\n",
        "\n",
        "#Performance Evaluation Libraries\n",
        "from sklearn.metrics import classification_report, confusion_matrix\n",
        "from sklearn.model_selection import cross_val_score"
      ]
    },
    {
      "cell_type": "markdown",
      "source": [
        "# Data Loading\n",
        "* <b>Reading the csv files into the notebook.</b>"
      ],
      "metadata": {
        "id": "nft9Mr1Diwn1"
      }
    },
    {
      "cell_type": "code",
      "source": [
        "train = pd.read_csv('/content/train_set.csv')\n",
        "test = pd.read_csv('/content/test_set.csv')"
      ],
      "metadata": {
        "id": "I6U43A3Zxz7G"
      },
      "execution_count": 20,
      "outputs": []
    },
    {
      "cell_type": "code",
      "source": [
        "train"
      ],
      "metadata": {
        "colab": {
          "base_uri": "https://localhost:8080/",
          "height": 424
        },
        "id": "sTyTCPL-yCVI",
        "outputId": "92af833a-16c8-40da-ec46-7194cc45df3e"
      },
      "execution_count": 21,
      "outputs": [
        {
          "output_type": "execute_result",
          "data": {
            "text/plain": [
              "      Inv_Id  Vendor_Code     GL_Code  Inv_Amt  \\\n",
              "0      15001  VENDOR-1676  GL-6100410    83.24   \n",
              "1      15002  VENDOR-1883  GL-2182000    51.18   \n",
              "2      15004  VENDOR-1999  GL-6050100    79.02   \n",
              "3      15005  VENDOR-1771  GL-6101400    48.50   \n",
              "4      15006  VENDOR-1331  GL-2182000    63.35   \n",
              "...      ...          ...         ...      ...   \n",
              "5283   23004  VENDOR-2117  GL-6101400    14.17   \n",
              "5284   23005  VENDOR-1736  GL-2182000    84.88   \n",
              "5285   23007  VENDOR-2226  GL-6050310    94.78   \n",
              "5286   23008  VENDOR-1036  GL-6100500    57.01   \n",
              "5287   23010  VENDOR-2442  GL-6060100    79.96   \n",
              "\n",
              "                                       Item_Description Product_Category  \n",
              "0     Artworking/Typesetting Production Jun 2009 Cha...       CLASS-1963  \n",
              "1     Auto Leasing Corporate Services Corning Inc /N...       CLASS-1250  \n",
              "2     Store Management Lease/Rent Deltona Corp Real ...       CLASS-1274  \n",
              "3     Store Construction General Requirements Coloni...       CLASS-1522  \n",
              "4     Jul 2015 Aydin Corp Contingent Labor/Temp Labo...       CLASS-1376  \n",
              "...                                                 ...              ...  \n",
              "5283  General Contractor General Requirements Final ...       CLASS-1522  \n",
              "5284  Human Resources Corporate Services Contingent ...       CLASS-1376  \n",
              "5285  Logistics Transportation Services Parcel/Posta...       CLASS-1870  \n",
              "5286  2005Sep Addmaster Corp Magazines Media Buy - T...       CLASS-1721  \n",
              "5287  Information Technology IT Managed Services Fri...       CLASS-1652  \n",
              "\n",
              "[5288 rows x 6 columns]"
            ],
            "text/html": [
              "\n",
              "  <div id=\"df-6f6594fe-38df-4d77-8580-0b19f3219541\">\n",
              "    <div class=\"colab-df-container\">\n",
              "      <div>\n",
              "<style scoped>\n",
              "    .dataframe tbody tr th:only-of-type {\n",
              "        vertical-align: middle;\n",
              "    }\n",
              "\n",
              "    .dataframe tbody tr th {\n",
              "        vertical-align: top;\n",
              "    }\n",
              "\n",
              "    .dataframe thead th {\n",
              "        text-align: right;\n",
              "    }\n",
              "</style>\n",
              "<table border=\"1\" class=\"dataframe\">\n",
              "  <thead>\n",
              "    <tr style=\"text-align: right;\">\n",
              "      <th></th>\n",
              "      <th>Inv_Id</th>\n",
              "      <th>Vendor_Code</th>\n",
              "      <th>GL_Code</th>\n",
              "      <th>Inv_Amt</th>\n",
              "      <th>Item_Description</th>\n",
              "      <th>Product_Category</th>\n",
              "    </tr>\n",
              "  </thead>\n",
              "  <tbody>\n",
              "    <tr>\n",
              "      <th>0</th>\n",
              "      <td>15001</td>\n",
              "      <td>VENDOR-1676</td>\n",
              "      <td>GL-6100410</td>\n",
              "      <td>83.24</td>\n",
              "      <td>Artworking/Typesetting Production Jun 2009 Cha...</td>\n",
              "      <td>CLASS-1963</td>\n",
              "    </tr>\n",
              "    <tr>\n",
              "      <th>1</th>\n",
              "      <td>15002</td>\n",
              "      <td>VENDOR-1883</td>\n",
              "      <td>GL-2182000</td>\n",
              "      <td>51.18</td>\n",
              "      <td>Auto Leasing Corporate Services Corning Inc /N...</td>\n",
              "      <td>CLASS-1250</td>\n",
              "    </tr>\n",
              "    <tr>\n",
              "      <th>2</th>\n",
              "      <td>15004</td>\n",
              "      <td>VENDOR-1999</td>\n",
              "      <td>GL-6050100</td>\n",
              "      <td>79.02</td>\n",
              "      <td>Store Management Lease/Rent Deltona Corp Real ...</td>\n",
              "      <td>CLASS-1274</td>\n",
              "    </tr>\n",
              "    <tr>\n",
              "      <th>3</th>\n",
              "      <td>15005</td>\n",
              "      <td>VENDOR-1771</td>\n",
              "      <td>GL-6101400</td>\n",
              "      <td>48.50</td>\n",
              "      <td>Store Construction General Requirements Coloni...</td>\n",
              "      <td>CLASS-1522</td>\n",
              "    </tr>\n",
              "    <tr>\n",
              "      <th>4</th>\n",
              "      <td>15006</td>\n",
              "      <td>VENDOR-1331</td>\n",
              "      <td>GL-2182000</td>\n",
              "      <td>63.35</td>\n",
              "      <td>Jul 2015 Aydin Corp Contingent Labor/Temp Labo...</td>\n",
              "      <td>CLASS-1376</td>\n",
              "    </tr>\n",
              "    <tr>\n",
              "      <th>...</th>\n",
              "      <td>...</td>\n",
              "      <td>...</td>\n",
              "      <td>...</td>\n",
              "      <td>...</td>\n",
              "      <td>...</td>\n",
              "      <td>...</td>\n",
              "    </tr>\n",
              "    <tr>\n",
              "      <th>5283</th>\n",
              "      <td>23004</td>\n",
              "      <td>VENDOR-2117</td>\n",
              "      <td>GL-6101400</td>\n",
              "      <td>14.17</td>\n",
              "      <td>General Contractor General Requirements Final ...</td>\n",
              "      <td>CLASS-1522</td>\n",
              "    </tr>\n",
              "    <tr>\n",
              "      <th>5284</th>\n",
              "      <td>23005</td>\n",
              "      <td>VENDOR-1736</td>\n",
              "      <td>GL-2182000</td>\n",
              "      <td>84.88</td>\n",
              "      <td>Human Resources Corporate Services Contingent ...</td>\n",
              "      <td>CLASS-1376</td>\n",
              "    </tr>\n",
              "    <tr>\n",
              "      <th>5285</th>\n",
              "      <td>23007</td>\n",
              "      <td>VENDOR-2226</td>\n",
              "      <td>GL-6050310</td>\n",
              "      <td>94.78</td>\n",
              "      <td>Logistics Transportation Services Parcel/Posta...</td>\n",
              "      <td>CLASS-1870</td>\n",
              "    </tr>\n",
              "    <tr>\n",
              "      <th>5286</th>\n",
              "      <td>23008</td>\n",
              "      <td>VENDOR-1036</td>\n",
              "      <td>GL-6100500</td>\n",
              "      <td>57.01</td>\n",
              "      <td>2005Sep Addmaster Corp Magazines Media Buy - T...</td>\n",
              "      <td>CLASS-1721</td>\n",
              "    </tr>\n",
              "    <tr>\n",
              "      <th>5287</th>\n",
              "      <td>23010</td>\n",
              "      <td>VENDOR-2442</td>\n",
              "      <td>GL-6060100</td>\n",
              "      <td>79.96</td>\n",
              "      <td>Information Technology IT Managed Services Fri...</td>\n",
              "      <td>CLASS-1652</td>\n",
              "    </tr>\n",
              "  </tbody>\n",
              "</table>\n",
              "<p>5288 rows × 6 columns</p>\n",
              "</div>\n",
              "      <button class=\"colab-df-convert\" onclick=\"convertToInteractive('df-6f6594fe-38df-4d77-8580-0b19f3219541')\"\n",
              "              title=\"Convert this dataframe to an interactive table.\"\n",
              "              style=\"display:none;\">\n",
              "        \n",
              "  <svg xmlns=\"http://www.w3.org/2000/svg\" height=\"24px\"viewBox=\"0 0 24 24\"\n",
              "       width=\"24px\">\n",
              "    <path d=\"M0 0h24v24H0V0z\" fill=\"none\"/>\n",
              "    <path d=\"M18.56 5.44l.94 2.06.94-2.06 2.06-.94-2.06-.94-.94-2.06-.94 2.06-2.06.94zm-11 1L8.5 8.5l.94-2.06 2.06-.94-2.06-.94L8.5 2.5l-.94 2.06-2.06.94zm10 10l.94 2.06.94-2.06 2.06-.94-2.06-.94-.94-2.06-.94 2.06-2.06.94z\"/><path d=\"M17.41 7.96l-1.37-1.37c-.4-.4-.92-.59-1.43-.59-.52 0-1.04.2-1.43.59L10.3 9.45l-7.72 7.72c-.78.78-.78 2.05 0 2.83L4 21.41c.39.39.9.59 1.41.59.51 0 1.02-.2 1.41-.59l7.78-7.78 2.81-2.81c.8-.78.8-2.07 0-2.86zM5.41 20L4 18.59l7.72-7.72 1.47 1.35L5.41 20z\"/>\n",
              "  </svg>\n",
              "      </button>\n",
              "      \n",
              "  <style>\n",
              "    .colab-df-container {\n",
              "      display:flex;\n",
              "      flex-wrap:wrap;\n",
              "      gap: 12px;\n",
              "    }\n",
              "\n",
              "    .colab-df-convert {\n",
              "      background-color: #E8F0FE;\n",
              "      border: none;\n",
              "      border-radius: 50%;\n",
              "      cursor: pointer;\n",
              "      display: none;\n",
              "      fill: #1967D2;\n",
              "      height: 32px;\n",
              "      padding: 0 0 0 0;\n",
              "      width: 32px;\n",
              "    }\n",
              "\n",
              "    .colab-df-convert:hover {\n",
              "      background-color: #E2EBFA;\n",
              "      box-shadow: 0px 1px 2px rgba(60, 64, 67, 0.3), 0px 1px 3px 1px rgba(60, 64, 67, 0.15);\n",
              "      fill: #174EA6;\n",
              "    }\n",
              "\n",
              "    [theme=dark] .colab-df-convert {\n",
              "      background-color: #3B4455;\n",
              "      fill: #D2E3FC;\n",
              "    }\n",
              "\n",
              "    [theme=dark] .colab-df-convert:hover {\n",
              "      background-color: #434B5C;\n",
              "      box-shadow: 0px 1px 3px 1px rgba(0, 0, 0, 0.15);\n",
              "      filter: drop-shadow(0px 1px 2px rgba(0, 0, 0, 0.3));\n",
              "      fill: #FFFFFF;\n",
              "    }\n",
              "  </style>\n",
              "\n",
              "      <script>\n",
              "        const buttonEl =\n",
              "          document.querySelector('#df-6f6594fe-38df-4d77-8580-0b19f3219541 button.colab-df-convert');\n",
              "        buttonEl.style.display =\n",
              "          google.colab.kernel.accessAllowed ? 'block' : 'none';\n",
              "\n",
              "        async function convertToInteractive(key) {\n",
              "          const element = document.querySelector('#df-6f6594fe-38df-4d77-8580-0b19f3219541');\n",
              "          const dataTable =\n",
              "            await google.colab.kernel.invokeFunction('convertToInteractive',\n",
              "                                                     [key], {});\n",
              "          if (!dataTable) return;\n",
              "\n",
              "          const docLinkHtml = 'Like what you see? Visit the ' +\n",
              "            '<a target=\"_blank\" href=https://colab.research.google.com/notebooks/data_table.ipynb>data table notebook</a>'\n",
              "            + ' to learn more about interactive tables.';\n",
              "          element.innerHTML = '';\n",
              "          dataTable['output_type'] = 'display_data';\n",
              "          await google.colab.output.renderOutput(dataTable, element);\n",
              "          const docLink = document.createElement('div');\n",
              "          docLink.innerHTML = docLinkHtml;\n",
              "          element.appendChild(docLink);\n",
              "        }\n",
              "      </script>\n",
              "    </div>\n",
              "  </div>\n",
              "  "
            ]
          },
          "metadata": {},
          "execution_count": 21
        }
      ]
    },
    {
      "cell_type": "markdown",
      "source": [
        "#\tExploratory Data Analysis of variables\n",
        "\n",
        "\n",
        "\n",
        "\n",
        "\n",
        "\n",
        "\n"
      ],
      "metadata": {
        "id": "FWho6fSoi7ym"
      }
    },
    {
      "cell_type": "markdown",
      "source": [
        "* Checking the dimension of datasets- Number of Rows and columns."
      ],
      "metadata": {
        "id": "XwzVIpXT-OmJ"
      }
    },
    {
      "cell_type": "code",
      "source": [
        "train.shape"
      ],
      "metadata": {
        "colab": {
          "base_uri": "https://localhost:8080/"
        },
        "id": "j2bQlHCeyLlX",
        "outputId": "25f34c16-a461-4fbc-ab68-1b0fac648862"
      },
      "execution_count": 22,
      "outputs": [
        {
          "output_type": "execute_result",
          "data": {
            "text/plain": [
              "(5288, 6)"
            ]
          },
          "metadata": {},
          "execution_count": 22
        }
      ]
    },
    {
      "cell_type": "code",
      "source": [
        "test.shape"
      ],
      "metadata": {
        "colab": {
          "base_uri": "https://localhost:8080/"
        },
        "id": "vSQUA8bYyL_9",
        "outputId": "342c1ba3-6cbc-4be8-94d8-a4fd24fa98e1"
      },
      "execution_count": 23,
      "outputs": [
        {
          "output_type": "execute_result",
          "data": {
            "text/plain": [
              "(278, 5)"
            ]
          },
          "metadata": {},
          "execution_count": 23
        }
      ]
    },
    {
      "cell_type": "markdown",
      "source": [
        "* Deriving information about data types, null values and total entries."
      ],
      "metadata": {
        "id": "6E1SgpAZ-re2"
      }
    },
    {
      "cell_type": "code",
      "source": [
        "train.info()"
      ],
      "metadata": {
        "colab": {
          "base_uri": "https://localhost:8080/"
        },
        "id": "dpPEcLHryMD8",
        "outputId": "ab0ec62f-146d-4f36-c272-4a64a4e5b8a5"
      },
      "execution_count": 24,
      "outputs": [
        {
          "output_type": "stream",
          "name": "stdout",
          "text": [
            "<class 'pandas.core.frame.DataFrame'>\n",
            "RangeIndex: 5288 entries, 0 to 5287\n",
            "Data columns (total 6 columns):\n",
            " #   Column            Non-Null Count  Dtype  \n",
            "---  ------            --------------  -----  \n",
            " 0   Inv_Id            5288 non-null   int64  \n",
            " 1   Vendor_Code       5288 non-null   object \n",
            " 2   GL_Code           5288 non-null   object \n",
            " 3   Inv_Amt           5288 non-null   float64\n",
            " 4   Item_Description  5288 non-null   object \n",
            " 5   Product_Category  5288 non-null   object \n",
            "dtypes: float64(1), int64(1), object(4)\n",
            "memory usage: 248.0+ KB\n"
          ]
        }
      ]
    },
    {
      "cell_type": "markdown",
      "source": [
        "* Deriving statistical description of numeric features."
      ],
      "metadata": {
        "id": "Q-xTjmBt_B1B"
      }
    },
    {
      "cell_type": "code",
      "source": [
        "train.describe()"
      ],
      "metadata": {
        "colab": {
          "base_uri": "https://localhost:8080/",
          "height": 300
        },
        "id": "yfWA2oLPjC9b",
        "outputId": "d8bd15a2-96cd-47b4-cf59-c8d81619bbba"
      },
      "execution_count": 25,
      "outputs": [
        {
          "output_type": "execute_result",
          "data": {
            "text/plain": [
              "             Inv_Id      Inv_Amt\n",
              "count   5288.000000  5288.000000\n",
              "mean   19016.049924    49.890034\n",
              "std     2310.739549    28.835716\n",
              "min    15001.000000     0.010000\n",
              "25%    17013.750000    25.062500\n",
              "50%    19023.000000    49.560000\n",
              "75%    21004.250000    74.945000\n",
              "max    23010.000000    99.990000"
            ],
            "text/html": [
              "\n",
              "  <div id=\"df-d1c3437d-a038-4b37-952a-44fe01a1187f\">\n",
              "    <div class=\"colab-df-container\">\n",
              "      <div>\n",
              "<style scoped>\n",
              "    .dataframe tbody tr th:only-of-type {\n",
              "        vertical-align: middle;\n",
              "    }\n",
              "\n",
              "    .dataframe tbody tr th {\n",
              "        vertical-align: top;\n",
              "    }\n",
              "\n",
              "    .dataframe thead th {\n",
              "        text-align: right;\n",
              "    }\n",
              "</style>\n",
              "<table border=\"1\" class=\"dataframe\">\n",
              "  <thead>\n",
              "    <tr style=\"text-align: right;\">\n",
              "      <th></th>\n",
              "      <th>Inv_Id</th>\n",
              "      <th>Inv_Amt</th>\n",
              "    </tr>\n",
              "  </thead>\n",
              "  <tbody>\n",
              "    <tr>\n",
              "      <th>count</th>\n",
              "      <td>5288.000000</td>\n",
              "      <td>5288.000000</td>\n",
              "    </tr>\n",
              "    <tr>\n",
              "      <th>mean</th>\n",
              "      <td>19016.049924</td>\n",
              "      <td>49.890034</td>\n",
              "    </tr>\n",
              "    <tr>\n",
              "      <th>std</th>\n",
              "      <td>2310.739549</td>\n",
              "      <td>28.835716</td>\n",
              "    </tr>\n",
              "    <tr>\n",
              "      <th>min</th>\n",
              "      <td>15001.000000</td>\n",
              "      <td>0.010000</td>\n",
              "    </tr>\n",
              "    <tr>\n",
              "      <th>25%</th>\n",
              "      <td>17013.750000</td>\n",
              "      <td>25.062500</td>\n",
              "    </tr>\n",
              "    <tr>\n",
              "      <th>50%</th>\n",
              "      <td>19023.000000</td>\n",
              "      <td>49.560000</td>\n",
              "    </tr>\n",
              "    <tr>\n",
              "      <th>75%</th>\n",
              "      <td>21004.250000</td>\n",
              "      <td>74.945000</td>\n",
              "    </tr>\n",
              "    <tr>\n",
              "      <th>max</th>\n",
              "      <td>23010.000000</td>\n",
              "      <td>99.990000</td>\n",
              "    </tr>\n",
              "  </tbody>\n",
              "</table>\n",
              "</div>\n",
              "      <button class=\"colab-df-convert\" onclick=\"convertToInteractive('df-d1c3437d-a038-4b37-952a-44fe01a1187f')\"\n",
              "              title=\"Convert this dataframe to an interactive table.\"\n",
              "              style=\"display:none;\">\n",
              "        \n",
              "  <svg xmlns=\"http://www.w3.org/2000/svg\" height=\"24px\"viewBox=\"0 0 24 24\"\n",
              "       width=\"24px\">\n",
              "    <path d=\"M0 0h24v24H0V0z\" fill=\"none\"/>\n",
              "    <path d=\"M18.56 5.44l.94 2.06.94-2.06 2.06-.94-2.06-.94-.94-2.06-.94 2.06-2.06.94zm-11 1L8.5 8.5l.94-2.06 2.06-.94-2.06-.94L8.5 2.5l-.94 2.06-2.06.94zm10 10l.94 2.06.94-2.06 2.06-.94-2.06-.94-.94-2.06-.94 2.06-2.06.94z\"/><path d=\"M17.41 7.96l-1.37-1.37c-.4-.4-.92-.59-1.43-.59-.52 0-1.04.2-1.43.59L10.3 9.45l-7.72 7.72c-.78.78-.78 2.05 0 2.83L4 21.41c.39.39.9.59 1.41.59.51 0 1.02-.2 1.41-.59l7.78-7.78 2.81-2.81c.8-.78.8-2.07 0-2.86zM5.41 20L4 18.59l7.72-7.72 1.47 1.35L5.41 20z\"/>\n",
              "  </svg>\n",
              "      </button>\n",
              "      \n",
              "  <style>\n",
              "    .colab-df-container {\n",
              "      display:flex;\n",
              "      flex-wrap:wrap;\n",
              "      gap: 12px;\n",
              "    }\n",
              "\n",
              "    .colab-df-convert {\n",
              "      background-color: #E8F0FE;\n",
              "      border: none;\n",
              "      border-radius: 50%;\n",
              "      cursor: pointer;\n",
              "      display: none;\n",
              "      fill: #1967D2;\n",
              "      height: 32px;\n",
              "      padding: 0 0 0 0;\n",
              "      width: 32px;\n",
              "    }\n",
              "\n",
              "    .colab-df-convert:hover {\n",
              "      background-color: #E2EBFA;\n",
              "      box-shadow: 0px 1px 2px rgba(60, 64, 67, 0.3), 0px 1px 3px 1px rgba(60, 64, 67, 0.15);\n",
              "      fill: #174EA6;\n",
              "    }\n",
              "\n",
              "    [theme=dark] .colab-df-convert {\n",
              "      background-color: #3B4455;\n",
              "      fill: #D2E3FC;\n",
              "    }\n",
              "\n",
              "    [theme=dark] .colab-df-convert:hover {\n",
              "      background-color: #434B5C;\n",
              "      box-shadow: 0px 1px 3px 1px rgba(0, 0, 0, 0.15);\n",
              "      filter: drop-shadow(0px 1px 2px rgba(0, 0, 0, 0.3));\n",
              "      fill: #FFFFFF;\n",
              "    }\n",
              "  </style>\n",
              "\n",
              "      <script>\n",
              "        const buttonEl =\n",
              "          document.querySelector('#df-d1c3437d-a038-4b37-952a-44fe01a1187f button.colab-df-convert');\n",
              "        buttonEl.style.display =\n",
              "          google.colab.kernel.accessAllowed ? 'block' : 'none';\n",
              "\n",
              "        async function convertToInteractive(key) {\n",
              "          const element = document.querySelector('#df-d1c3437d-a038-4b37-952a-44fe01a1187f');\n",
              "          const dataTable =\n",
              "            await google.colab.kernel.invokeFunction('convertToInteractive',\n",
              "                                                     [key], {});\n",
              "          if (!dataTable) return;\n",
              "\n",
              "          const docLinkHtml = 'Like what you see? Visit the ' +\n",
              "            '<a target=\"_blank\" href=https://colab.research.google.com/notebooks/data_table.ipynb>data table notebook</a>'\n",
              "            + ' to learn more about interactive tables.';\n",
              "          element.innerHTML = '';\n",
              "          dataTable['output_type'] = 'display_data';\n",
              "          await google.colab.output.renderOutput(dataTable, element);\n",
              "          const docLink = document.createElement('div');\n",
              "          docLink.innerHTML = docLinkHtml;\n",
              "          element.appendChild(docLink);\n",
              "        }\n",
              "      </script>\n",
              "    </div>\n",
              "  </div>\n",
              "  "
            ]
          },
          "metadata": {},
          "execution_count": 25
        }
      ]
    },
    {
      "cell_type": "markdown",
      "source": [
        "* Checking unique values by features."
      ],
      "metadata": {
        "id": "YgpcO34h_QJT"
      }
    },
    {
      "cell_type": "code",
      "source": [
        "def unique_values(data):\n",
        "  for col in data.columns:\n",
        "    print(f'{col} has {data[col].nunique()} unique values.')"
      ],
      "metadata": {
        "id": "v75fEoQBf_aw"
      },
      "execution_count": 26,
      "outputs": []
    },
    {
      "cell_type": "code",
      "source": [
        "unique_values(train)"
      ],
      "metadata": {
        "colab": {
          "base_uri": "https://localhost:8080/"
        },
        "id": "U86HQq4fgnxQ",
        "outputId": "50afe9a4-eedc-4108-fb88-d1964b05a8f7"
      },
      "execution_count": 27,
      "outputs": [
        {
          "output_type": "stream",
          "name": "stdout",
          "text": [
            "Inv_Id has 5288 unique values.\n",
            "Vendor_Code has 1206 unique values.\n",
            "GL_Code has 9 unique values.\n",
            "Inv_Amt has 4099 unique values.\n",
            "Item_Description has 5281 unique values.\n",
            "Product_Category has 36 unique values.\n"
          ]
        }
      ]
    },
    {
      "cell_type": "markdown",
      "source": [
        "\n",
        "* <h4>Objective of the below analysis is to ascertain the invoice details as in quantity and valuation basis <b>product category</b>.\n",
        "This analysis helps in tracking the invoice amount and the number of invoices.</h4>"
      ],
      "metadata": {
        "id": "Cpzk2nWjxYDf"
      }
    },
    {
      "cell_type": "code",
      "source": [
        "product_cate_basis_Inv = train.groupby(['Product_Category']).agg({'Inv_Id':'count','Inv_Amt':'sum'})\n",
        "product_cate_basis_Inv.sort_values(by='Inv_Amt',ascending=False)"
      ],
      "metadata": {
        "colab": {
          "base_uri": "https://localhost:8080/",
          "height": 1000
        },
        "id": "fNKRQMjCkuFp",
        "outputId": "b920ca63-4c40-452d-a98f-27db51be6564"
      },
      "execution_count": 28,
      "outputs": [
        {
          "output_type": "execute_result",
          "data": {
            "text/plain": [
              "                  Inv_Id   Inv_Amt\n",
              "Product_Category                  \n",
              "CLASS-1758          1421  71136.15\n",
              "CLASS-1274           939  47153.57\n",
              "CLASS-1522           803  38624.53\n",
              "CLASS-1250           440  22902.55\n",
              "CLASS-1376           347  17814.97\n",
              "CLASS-1963           215  10231.40\n",
              "CLASS-1249           167   8688.27\n",
              "CLASS-1828           107   5638.99\n",
              "CLASS-2141           103   5021.15\n",
              "CLASS-1721           103   4599.74\n",
              "CLASS-1567            80   3687.01\n",
              "CLASS-1919            61   2969.61\n",
              "CLASS-2112            52   2841.73\n",
              "CLASS-1850            51   2521.05\n",
              "CLASS-1477            48   2145.24\n",
              "CLASS-1309            31   1960.30\n",
              "CLASS-2241            36   1806.88\n",
              "CLASS-1870            35   1623.16\n",
              "CLASS-2003            31   1467.47\n",
              "CLASS-1322            28   1355.66\n",
              "CLASS-1429            30   1354.79\n",
              "CLASS-1964            27   1284.51\n",
              "CLASS-1770            19   1003.20\n",
              "CLASS-1294            24    877.18\n",
              "CLASS-1983            16    874.75\n",
              "CLASS-1867            15    870.47\n",
              "CLASS-1652            14    819.73\n",
              "CLASS-1805            10    777.55\n",
              "CLASS-2038            13    622.88\n",
              "CLASS-2152             9    534.84\n",
              "CLASS-1688             4    243.70\n",
              "CLASS-1248             4    173.73\n",
              "CLASS-2146             2     81.25\n",
              "CLASS-1957             1     60.04\n",
              "CLASS-1838             1     45.41\n",
              "CLASS-2015             1      5.04"
            ],
            "text/html": [
              "\n",
              "  <div id=\"df-d81f3ff3-1045-47af-b4b7-74adda0b43c6\">\n",
              "    <div class=\"colab-df-container\">\n",
              "      <div>\n",
              "<style scoped>\n",
              "    .dataframe tbody tr th:only-of-type {\n",
              "        vertical-align: middle;\n",
              "    }\n",
              "\n",
              "    .dataframe tbody tr th {\n",
              "        vertical-align: top;\n",
              "    }\n",
              "\n",
              "    .dataframe thead th {\n",
              "        text-align: right;\n",
              "    }\n",
              "</style>\n",
              "<table border=\"1\" class=\"dataframe\">\n",
              "  <thead>\n",
              "    <tr style=\"text-align: right;\">\n",
              "      <th></th>\n",
              "      <th>Inv_Id</th>\n",
              "      <th>Inv_Amt</th>\n",
              "    </tr>\n",
              "    <tr>\n",
              "      <th>Product_Category</th>\n",
              "      <th></th>\n",
              "      <th></th>\n",
              "    </tr>\n",
              "  </thead>\n",
              "  <tbody>\n",
              "    <tr>\n",
              "      <th>CLASS-1758</th>\n",
              "      <td>1421</td>\n",
              "      <td>71136.15</td>\n",
              "    </tr>\n",
              "    <tr>\n",
              "      <th>CLASS-1274</th>\n",
              "      <td>939</td>\n",
              "      <td>47153.57</td>\n",
              "    </tr>\n",
              "    <tr>\n",
              "      <th>CLASS-1522</th>\n",
              "      <td>803</td>\n",
              "      <td>38624.53</td>\n",
              "    </tr>\n",
              "    <tr>\n",
              "      <th>CLASS-1250</th>\n",
              "      <td>440</td>\n",
              "      <td>22902.55</td>\n",
              "    </tr>\n",
              "    <tr>\n",
              "      <th>CLASS-1376</th>\n",
              "      <td>347</td>\n",
              "      <td>17814.97</td>\n",
              "    </tr>\n",
              "    <tr>\n",
              "      <th>CLASS-1963</th>\n",
              "      <td>215</td>\n",
              "      <td>10231.40</td>\n",
              "    </tr>\n",
              "    <tr>\n",
              "      <th>CLASS-1249</th>\n",
              "      <td>167</td>\n",
              "      <td>8688.27</td>\n",
              "    </tr>\n",
              "    <tr>\n",
              "      <th>CLASS-1828</th>\n",
              "      <td>107</td>\n",
              "      <td>5638.99</td>\n",
              "    </tr>\n",
              "    <tr>\n",
              "      <th>CLASS-2141</th>\n",
              "      <td>103</td>\n",
              "      <td>5021.15</td>\n",
              "    </tr>\n",
              "    <tr>\n",
              "      <th>CLASS-1721</th>\n",
              "      <td>103</td>\n",
              "      <td>4599.74</td>\n",
              "    </tr>\n",
              "    <tr>\n",
              "      <th>CLASS-1567</th>\n",
              "      <td>80</td>\n",
              "      <td>3687.01</td>\n",
              "    </tr>\n",
              "    <tr>\n",
              "      <th>CLASS-1919</th>\n",
              "      <td>61</td>\n",
              "      <td>2969.61</td>\n",
              "    </tr>\n",
              "    <tr>\n",
              "      <th>CLASS-2112</th>\n",
              "      <td>52</td>\n",
              "      <td>2841.73</td>\n",
              "    </tr>\n",
              "    <tr>\n",
              "      <th>CLASS-1850</th>\n",
              "      <td>51</td>\n",
              "      <td>2521.05</td>\n",
              "    </tr>\n",
              "    <tr>\n",
              "      <th>CLASS-1477</th>\n",
              "      <td>48</td>\n",
              "      <td>2145.24</td>\n",
              "    </tr>\n",
              "    <tr>\n",
              "      <th>CLASS-1309</th>\n",
              "      <td>31</td>\n",
              "      <td>1960.30</td>\n",
              "    </tr>\n",
              "    <tr>\n",
              "      <th>CLASS-2241</th>\n",
              "      <td>36</td>\n",
              "      <td>1806.88</td>\n",
              "    </tr>\n",
              "    <tr>\n",
              "      <th>CLASS-1870</th>\n",
              "      <td>35</td>\n",
              "      <td>1623.16</td>\n",
              "    </tr>\n",
              "    <tr>\n",
              "      <th>CLASS-2003</th>\n",
              "      <td>31</td>\n",
              "      <td>1467.47</td>\n",
              "    </tr>\n",
              "    <tr>\n",
              "      <th>CLASS-1322</th>\n",
              "      <td>28</td>\n",
              "      <td>1355.66</td>\n",
              "    </tr>\n",
              "    <tr>\n",
              "      <th>CLASS-1429</th>\n",
              "      <td>30</td>\n",
              "      <td>1354.79</td>\n",
              "    </tr>\n",
              "    <tr>\n",
              "      <th>CLASS-1964</th>\n",
              "      <td>27</td>\n",
              "      <td>1284.51</td>\n",
              "    </tr>\n",
              "    <tr>\n",
              "      <th>CLASS-1770</th>\n",
              "      <td>19</td>\n",
              "      <td>1003.20</td>\n",
              "    </tr>\n",
              "    <tr>\n",
              "      <th>CLASS-1294</th>\n",
              "      <td>24</td>\n",
              "      <td>877.18</td>\n",
              "    </tr>\n",
              "    <tr>\n",
              "      <th>CLASS-1983</th>\n",
              "      <td>16</td>\n",
              "      <td>874.75</td>\n",
              "    </tr>\n",
              "    <tr>\n",
              "      <th>CLASS-1867</th>\n",
              "      <td>15</td>\n",
              "      <td>870.47</td>\n",
              "    </tr>\n",
              "    <tr>\n",
              "      <th>CLASS-1652</th>\n",
              "      <td>14</td>\n",
              "      <td>819.73</td>\n",
              "    </tr>\n",
              "    <tr>\n",
              "      <th>CLASS-1805</th>\n",
              "      <td>10</td>\n",
              "      <td>777.55</td>\n",
              "    </tr>\n",
              "    <tr>\n",
              "      <th>CLASS-2038</th>\n",
              "      <td>13</td>\n",
              "      <td>622.88</td>\n",
              "    </tr>\n",
              "    <tr>\n",
              "      <th>CLASS-2152</th>\n",
              "      <td>9</td>\n",
              "      <td>534.84</td>\n",
              "    </tr>\n",
              "    <tr>\n",
              "      <th>CLASS-1688</th>\n",
              "      <td>4</td>\n",
              "      <td>243.70</td>\n",
              "    </tr>\n",
              "    <tr>\n",
              "      <th>CLASS-1248</th>\n",
              "      <td>4</td>\n",
              "      <td>173.73</td>\n",
              "    </tr>\n",
              "    <tr>\n",
              "      <th>CLASS-2146</th>\n",
              "      <td>2</td>\n",
              "      <td>81.25</td>\n",
              "    </tr>\n",
              "    <tr>\n",
              "      <th>CLASS-1957</th>\n",
              "      <td>1</td>\n",
              "      <td>60.04</td>\n",
              "    </tr>\n",
              "    <tr>\n",
              "      <th>CLASS-1838</th>\n",
              "      <td>1</td>\n",
              "      <td>45.41</td>\n",
              "    </tr>\n",
              "    <tr>\n",
              "      <th>CLASS-2015</th>\n",
              "      <td>1</td>\n",
              "      <td>5.04</td>\n",
              "    </tr>\n",
              "  </tbody>\n",
              "</table>\n",
              "</div>\n",
              "      <button class=\"colab-df-convert\" onclick=\"convertToInteractive('df-d81f3ff3-1045-47af-b4b7-74adda0b43c6')\"\n",
              "              title=\"Convert this dataframe to an interactive table.\"\n",
              "              style=\"display:none;\">\n",
              "        \n",
              "  <svg xmlns=\"http://www.w3.org/2000/svg\" height=\"24px\"viewBox=\"0 0 24 24\"\n",
              "       width=\"24px\">\n",
              "    <path d=\"M0 0h24v24H0V0z\" fill=\"none\"/>\n",
              "    <path d=\"M18.56 5.44l.94 2.06.94-2.06 2.06-.94-2.06-.94-.94-2.06-.94 2.06-2.06.94zm-11 1L8.5 8.5l.94-2.06 2.06-.94-2.06-.94L8.5 2.5l-.94 2.06-2.06.94zm10 10l.94 2.06.94-2.06 2.06-.94-2.06-.94-.94-2.06-.94 2.06-2.06.94z\"/><path d=\"M17.41 7.96l-1.37-1.37c-.4-.4-.92-.59-1.43-.59-.52 0-1.04.2-1.43.59L10.3 9.45l-7.72 7.72c-.78.78-.78 2.05 0 2.83L4 21.41c.39.39.9.59 1.41.59.51 0 1.02-.2 1.41-.59l7.78-7.78 2.81-2.81c.8-.78.8-2.07 0-2.86zM5.41 20L4 18.59l7.72-7.72 1.47 1.35L5.41 20z\"/>\n",
              "  </svg>\n",
              "      </button>\n",
              "      \n",
              "  <style>\n",
              "    .colab-df-container {\n",
              "      display:flex;\n",
              "      flex-wrap:wrap;\n",
              "      gap: 12px;\n",
              "    }\n",
              "\n",
              "    .colab-df-convert {\n",
              "      background-color: #E8F0FE;\n",
              "      border: none;\n",
              "      border-radius: 50%;\n",
              "      cursor: pointer;\n",
              "      display: none;\n",
              "      fill: #1967D2;\n",
              "      height: 32px;\n",
              "      padding: 0 0 0 0;\n",
              "      width: 32px;\n",
              "    }\n",
              "\n",
              "    .colab-df-convert:hover {\n",
              "      background-color: #E2EBFA;\n",
              "      box-shadow: 0px 1px 2px rgba(60, 64, 67, 0.3), 0px 1px 3px 1px rgba(60, 64, 67, 0.15);\n",
              "      fill: #174EA6;\n",
              "    }\n",
              "\n",
              "    [theme=dark] .colab-df-convert {\n",
              "      background-color: #3B4455;\n",
              "      fill: #D2E3FC;\n",
              "    }\n",
              "\n",
              "    [theme=dark] .colab-df-convert:hover {\n",
              "      background-color: #434B5C;\n",
              "      box-shadow: 0px 1px 3px 1px rgba(0, 0, 0, 0.15);\n",
              "      filter: drop-shadow(0px 1px 2px rgba(0, 0, 0, 0.3));\n",
              "      fill: #FFFFFF;\n",
              "    }\n",
              "  </style>\n",
              "\n",
              "      <script>\n",
              "        const buttonEl =\n",
              "          document.querySelector('#df-d81f3ff3-1045-47af-b4b7-74adda0b43c6 button.colab-df-convert');\n",
              "        buttonEl.style.display =\n",
              "          google.colab.kernel.accessAllowed ? 'block' : 'none';\n",
              "\n",
              "        async function convertToInteractive(key) {\n",
              "          const element = document.querySelector('#df-d81f3ff3-1045-47af-b4b7-74adda0b43c6');\n",
              "          const dataTable =\n",
              "            await google.colab.kernel.invokeFunction('convertToInteractive',\n",
              "                                                     [key], {});\n",
              "          if (!dataTable) return;\n",
              "\n",
              "          const docLinkHtml = 'Like what you see? Visit the ' +\n",
              "            '<a target=\"_blank\" href=https://colab.research.google.com/notebooks/data_table.ipynb>data table notebook</a>'\n",
              "            + ' to learn more about interactive tables.';\n",
              "          element.innerHTML = '';\n",
              "          dataTable['output_type'] = 'display_data';\n",
              "          await google.colab.output.renderOutput(dataTable, element);\n",
              "          const docLink = document.createElement('div');\n",
              "          docLink.innerHTML = docLinkHtml;\n",
              "          element.appendChild(docLink);\n",
              "        }\n",
              "      </script>\n",
              "    </div>\n",
              "  </div>\n",
              "  "
            ]
          },
          "metadata": {},
          "execution_count": 28
        }
      ]
    },
    {
      "cell_type": "markdown",
      "source": [
        "* <h4>This analysis provides details for item description which falls under each product category and the invoice amount pertaining to respective items.</h4>"
      ],
      "metadata": {
        "id": "n3pAN5C6xQr_"
      }
    },
    {
      "cell_type": "code",
      "source": [
        "product_valuation_basis_desc = train.groupby(['Product_Category','Item_Description']).agg({'Inv_Amt':'sum'})\n",
        "product_valuation_basis_desc"
      ],
      "metadata": {
        "colab": {
          "base_uri": "https://localhost:8080/",
          "height": 638
        },
        "id": "4xlOX76rqENE",
        "outputId": "895a102f-0729-4774-bdd8-6485427d6c48"
      },
      "execution_count": 29,
      "outputs": [
        {
          "output_type": "execute_result",
          "data": {
            "text/plain": [
              "                                                                     Inv_Amt\n",
              "Product_Category Item_Description                                           \n",
              "CLASS-1248       2001-Apr  Avalon Corp Audit & Risk Consulting F...    43.76\n",
              "                 Audit & Risk Consulting Corporate Services Aval...    36.35\n",
              "                 Combined Insurance Co Of America Dec2011 Corpor...    78.84\n",
              "                 Consulting Finance Consulting Audit & Risk Cons...    14.78\n",
              "CLASS-1249       2000-Feb  Daly John J Auto Fleet Repair and Mai...     7.76\n",
              "...                                                                      ...\n",
              "CLASS-2241       Workmen's Insurance Corporate Services Asarco I...    92.75\n",
              "                 Workmen's Insurance Corporate Services Bates Ch...    41.27\n",
              "                 Workmen's Insurance Corporate Services Furon Co...    15.66\n",
              "                 Workmen's Insurance Dec 2006 Corporate Services...    53.48\n",
              "                 Workmen's Insurance May 2006 Corporate Services...    60.88\n",
              "\n",
              "[5281 rows x 1 columns]"
            ],
            "text/html": [
              "\n",
              "  <div id=\"df-c6132a87-47b9-4901-9b9f-82d9fbf3299e\">\n",
              "    <div class=\"colab-df-container\">\n",
              "      <div>\n",
              "<style scoped>\n",
              "    .dataframe tbody tr th:only-of-type {\n",
              "        vertical-align: middle;\n",
              "    }\n",
              "\n",
              "    .dataframe tbody tr th {\n",
              "        vertical-align: top;\n",
              "    }\n",
              "\n",
              "    .dataframe thead th {\n",
              "        text-align: right;\n",
              "    }\n",
              "</style>\n",
              "<table border=\"1\" class=\"dataframe\">\n",
              "  <thead>\n",
              "    <tr style=\"text-align: right;\">\n",
              "      <th></th>\n",
              "      <th></th>\n",
              "      <th>Inv_Amt</th>\n",
              "    </tr>\n",
              "    <tr>\n",
              "      <th>Product_Category</th>\n",
              "      <th>Item_Description</th>\n",
              "      <th></th>\n",
              "    </tr>\n",
              "  </thead>\n",
              "  <tbody>\n",
              "    <tr>\n",
              "      <th rowspan=\"4\" valign=\"top\">CLASS-1248</th>\n",
              "      <th>2001-Apr  Avalon Corp Audit &amp; Risk Consulting Finance Consulting Corporate Services Consulting</th>\n",
              "      <td>43.76</td>\n",
              "    </tr>\n",
              "    <tr>\n",
              "      <th>Audit &amp; Risk Consulting Corporate Services Avalon Corp 2019Feb Finance Consulting Consulting</th>\n",
              "      <td>36.35</td>\n",
              "    </tr>\n",
              "    <tr>\n",
              "      <th>Combined Insurance Co Of America Dec2011 Corporate Services Consulting Finance Consulting Audit &amp; Risk Consulting</th>\n",
              "      <td>78.84</td>\n",
              "    </tr>\n",
              "    <tr>\n",
              "      <th>Consulting Finance Consulting Audit &amp; Risk Consulting Carter Day Industries Inc May 2007 Corporate Services</th>\n",
              "      <td>14.78</td>\n",
              "    </tr>\n",
              "    <tr>\n",
              "      <th>CLASS-1249</th>\n",
              "      <th>2000-Feb  Daly John J Auto Fleet Repair and Maintenance Auto Leasing and Maintenance Corporate Services Other Corporate Services</th>\n",
              "      <td>7.76</td>\n",
              "    </tr>\n",
              "    <tr>\n",
              "      <th>...</th>\n",
              "      <th>...</th>\n",
              "      <td>...</td>\n",
              "    </tr>\n",
              "    <tr>\n",
              "      <th rowspan=\"5\" valign=\"top\">CLASS-2241</th>\n",
              "      <th>Workmen's Insurance Corporate Services Asarco Inc Oct-2013 Workmen's Insurance Commercial Insurance</th>\n",
              "      <td>92.75</td>\n",
              "    </tr>\n",
              "    <tr>\n",
              "      <th>Workmen's Insurance Corporate Services Bates Charles Howard Sep2019 Workmen's Insurance Commercial Insurance</th>\n",
              "      <td>41.27</td>\n",
              "    </tr>\n",
              "    <tr>\n",
              "      <th>Workmen's Insurance Corporate Services Furon Co 2009-Feb  Workmen's Insurance Commercial Insurance</th>\n",
              "      <td>15.66</td>\n",
              "    </tr>\n",
              "    <tr>\n",
              "      <th>Workmen's Insurance Dec 2006 Corporate Services Fpa Corp /De/ Commercial Insurance Workmen's Insurance</th>\n",
              "      <td>53.48</td>\n",
              "    </tr>\n",
              "    <tr>\n",
              "      <th>Workmen's Insurance May 2006 Corporate Services Froley Revy Investment Co Inc Commercial Insurance Workmen's Insurance</th>\n",
              "      <td>60.88</td>\n",
              "    </tr>\n",
              "  </tbody>\n",
              "</table>\n",
              "<p>5281 rows × 1 columns</p>\n",
              "</div>\n",
              "      <button class=\"colab-df-convert\" onclick=\"convertToInteractive('df-c6132a87-47b9-4901-9b9f-82d9fbf3299e')\"\n",
              "              title=\"Convert this dataframe to an interactive table.\"\n",
              "              style=\"display:none;\">\n",
              "        \n",
              "  <svg xmlns=\"http://www.w3.org/2000/svg\" height=\"24px\"viewBox=\"0 0 24 24\"\n",
              "       width=\"24px\">\n",
              "    <path d=\"M0 0h24v24H0V0z\" fill=\"none\"/>\n",
              "    <path d=\"M18.56 5.44l.94 2.06.94-2.06 2.06-.94-2.06-.94-.94-2.06-.94 2.06-2.06.94zm-11 1L8.5 8.5l.94-2.06 2.06-.94-2.06-.94L8.5 2.5l-.94 2.06-2.06.94zm10 10l.94 2.06.94-2.06 2.06-.94-2.06-.94-.94-2.06-.94 2.06-2.06.94z\"/><path d=\"M17.41 7.96l-1.37-1.37c-.4-.4-.92-.59-1.43-.59-.52 0-1.04.2-1.43.59L10.3 9.45l-7.72 7.72c-.78.78-.78 2.05 0 2.83L4 21.41c.39.39.9.59 1.41.59.51 0 1.02-.2 1.41-.59l7.78-7.78 2.81-2.81c.8-.78.8-2.07 0-2.86zM5.41 20L4 18.59l7.72-7.72 1.47 1.35L5.41 20z\"/>\n",
              "  </svg>\n",
              "      </button>\n",
              "      \n",
              "  <style>\n",
              "    .colab-df-container {\n",
              "      display:flex;\n",
              "      flex-wrap:wrap;\n",
              "      gap: 12px;\n",
              "    }\n",
              "\n",
              "    .colab-df-convert {\n",
              "      background-color: #E8F0FE;\n",
              "      border: none;\n",
              "      border-radius: 50%;\n",
              "      cursor: pointer;\n",
              "      display: none;\n",
              "      fill: #1967D2;\n",
              "      height: 32px;\n",
              "      padding: 0 0 0 0;\n",
              "      width: 32px;\n",
              "    }\n",
              "\n",
              "    .colab-df-convert:hover {\n",
              "      background-color: #E2EBFA;\n",
              "      box-shadow: 0px 1px 2px rgba(60, 64, 67, 0.3), 0px 1px 3px 1px rgba(60, 64, 67, 0.15);\n",
              "      fill: #174EA6;\n",
              "    }\n",
              "\n",
              "    [theme=dark] .colab-df-convert {\n",
              "      background-color: #3B4455;\n",
              "      fill: #D2E3FC;\n",
              "    }\n",
              "\n",
              "    [theme=dark] .colab-df-convert:hover {\n",
              "      background-color: #434B5C;\n",
              "      box-shadow: 0px 1px 3px 1px rgba(0, 0, 0, 0.15);\n",
              "      filter: drop-shadow(0px 1px 2px rgba(0, 0, 0, 0.3));\n",
              "      fill: #FFFFFF;\n",
              "    }\n",
              "  </style>\n",
              "\n",
              "      <script>\n",
              "        const buttonEl =\n",
              "          document.querySelector('#df-c6132a87-47b9-4901-9b9f-82d9fbf3299e button.colab-df-convert');\n",
              "        buttonEl.style.display =\n",
              "          google.colab.kernel.accessAllowed ? 'block' : 'none';\n",
              "\n",
              "        async function convertToInteractive(key) {\n",
              "          const element = document.querySelector('#df-c6132a87-47b9-4901-9b9f-82d9fbf3299e');\n",
              "          const dataTable =\n",
              "            await google.colab.kernel.invokeFunction('convertToInteractive',\n",
              "                                                     [key], {});\n",
              "          if (!dataTable) return;\n",
              "\n",
              "          const docLinkHtml = 'Like what you see? Visit the ' +\n",
              "            '<a target=\"_blank\" href=https://colab.research.google.com/notebooks/data_table.ipynb>data table notebook</a>'\n",
              "            + ' to learn more about interactive tables.';\n",
              "          element.innerHTML = '';\n",
              "          dataTable['output_type'] = 'display_data';\n",
              "          await google.colab.output.renderOutput(dataTable, element);\n",
              "          const docLink = document.createElement('div');\n",
              "          docLink.innerHTML = docLinkHtml;\n",
              "          element.appendChild(docLink);\n",
              "        }\n",
              "      </script>\n",
              "    </div>\n",
              "  </div>\n",
              "  "
            ]
          },
          "metadata": {},
          "execution_count": 29
        }
      ]
    },
    {
      "cell_type": "markdown",
      "source": [
        "<h5>In the below analysis Vendor code is classified basis Product category and the total invoice amount for each is available.</h5>\n",
        "\n",
        "* This analysis not only helps to identify multiple vendors for each product category but also helps in deriving information about the invoice amount for each vendor category by products ( we can further refer to the item description for each product category to do in-depth analysis )."
      ],
      "metadata": {
        "id": "Qzz7oFimxMCw"
      }
    },
    {
      "cell_type": "code",
      "source": [
        "vendor_data = train.groupby(['Product_Category','Vendor_Code']).agg({'Inv_Amt':'sum'})\n",
        "vendor_data.sort_values(by='Inv_Amt', ascending=False)"
      ],
      "metadata": {
        "colab": {
          "base_uri": "https://localhost:8080/",
          "height": 455
        },
        "id": "INIYCWPurqOH",
        "outputId": "8daf8f2a-60a0-423e-81b3-f246de462fee"
      },
      "execution_count": 30,
      "outputs": [
        {
          "output_type": "execute_result",
          "data": {
            "text/plain": [
              "                               Inv_Amt\n",
              "Product_Category Vendor_Code          \n",
              "CLASS-1250       VENDOR-1883  16292.98\n",
              "CLASS-1758       VENDOR-1513  11497.44\n",
              "                 VENDOR-2513   7563.67\n",
              "CLASS-1250       VENDOR-1551   6512.19\n",
              "CLASS-1249       VENDOR-1944   6380.70\n",
              "...                                ...\n",
              "CLASS-1477       VENDOR-1469      0.99\n",
              "CLASS-1274       VENDOR-1589      0.55\n",
              "                 VENDOR-1996      0.41\n",
              "CLASS-2003       VENDOR-1936      0.40\n",
              "CLASS-1828       VENDOR-1958      0.39\n",
              "\n",
              "[1284 rows x 1 columns]"
            ],
            "text/html": [
              "\n",
              "  <div id=\"df-97fadbbe-af6c-46fa-80fc-d9504fb5a030\">\n",
              "    <div class=\"colab-df-container\">\n",
              "      <div>\n",
              "<style scoped>\n",
              "    .dataframe tbody tr th:only-of-type {\n",
              "        vertical-align: middle;\n",
              "    }\n",
              "\n",
              "    .dataframe tbody tr th {\n",
              "        vertical-align: top;\n",
              "    }\n",
              "\n",
              "    .dataframe thead th {\n",
              "        text-align: right;\n",
              "    }\n",
              "</style>\n",
              "<table border=\"1\" class=\"dataframe\">\n",
              "  <thead>\n",
              "    <tr style=\"text-align: right;\">\n",
              "      <th></th>\n",
              "      <th></th>\n",
              "      <th>Inv_Amt</th>\n",
              "    </tr>\n",
              "    <tr>\n",
              "      <th>Product_Category</th>\n",
              "      <th>Vendor_Code</th>\n",
              "      <th></th>\n",
              "    </tr>\n",
              "  </thead>\n",
              "  <tbody>\n",
              "    <tr>\n",
              "      <th>CLASS-1250</th>\n",
              "      <th>VENDOR-1883</th>\n",
              "      <td>16292.98</td>\n",
              "    </tr>\n",
              "    <tr>\n",
              "      <th rowspan=\"2\" valign=\"top\">CLASS-1758</th>\n",
              "      <th>VENDOR-1513</th>\n",
              "      <td>11497.44</td>\n",
              "    </tr>\n",
              "    <tr>\n",
              "      <th>VENDOR-2513</th>\n",
              "      <td>7563.67</td>\n",
              "    </tr>\n",
              "    <tr>\n",
              "      <th>CLASS-1250</th>\n",
              "      <th>VENDOR-1551</th>\n",
              "      <td>6512.19</td>\n",
              "    </tr>\n",
              "    <tr>\n",
              "      <th>CLASS-1249</th>\n",
              "      <th>VENDOR-1944</th>\n",
              "      <td>6380.70</td>\n",
              "    </tr>\n",
              "    <tr>\n",
              "      <th>...</th>\n",
              "      <th>...</th>\n",
              "      <td>...</td>\n",
              "    </tr>\n",
              "    <tr>\n",
              "      <th>CLASS-1477</th>\n",
              "      <th>VENDOR-1469</th>\n",
              "      <td>0.99</td>\n",
              "    </tr>\n",
              "    <tr>\n",
              "      <th rowspan=\"2\" valign=\"top\">CLASS-1274</th>\n",
              "      <th>VENDOR-1589</th>\n",
              "      <td>0.55</td>\n",
              "    </tr>\n",
              "    <tr>\n",
              "      <th>VENDOR-1996</th>\n",
              "      <td>0.41</td>\n",
              "    </tr>\n",
              "    <tr>\n",
              "      <th>CLASS-2003</th>\n",
              "      <th>VENDOR-1936</th>\n",
              "      <td>0.40</td>\n",
              "    </tr>\n",
              "    <tr>\n",
              "      <th>CLASS-1828</th>\n",
              "      <th>VENDOR-1958</th>\n",
              "      <td>0.39</td>\n",
              "    </tr>\n",
              "  </tbody>\n",
              "</table>\n",
              "<p>1284 rows × 1 columns</p>\n",
              "</div>\n",
              "      <button class=\"colab-df-convert\" onclick=\"convertToInteractive('df-97fadbbe-af6c-46fa-80fc-d9504fb5a030')\"\n",
              "              title=\"Convert this dataframe to an interactive table.\"\n",
              "              style=\"display:none;\">\n",
              "        \n",
              "  <svg xmlns=\"http://www.w3.org/2000/svg\" height=\"24px\"viewBox=\"0 0 24 24\"\n",
              "       width=\"24px\">\n",
              "    <path d=\"M0 0h24v24H0V0z\" fill=\"none\"/>\n",
              "    <path d=\"M18.56 5.44l.94 2.06.94-2.06 2.06-.94-2.06-.94-.94-2.06-.94 2.06-2.06.94zm-11 1L8.5 8.5l.94-2.06 2.06-.94-2.06-.94L8.5 2.5l-.94 2.06-2.06.94zm10 10l.94 2.06.94-2.06 2.06-.94-2.06-.94-.94-2.06-.94 2.06-2.06.94z\"/><path d=\"M17.41 7.96l-1.37-1.37c-.4-.4-.92-.59-1.43-.59-.52 0-1.04.2-1.43.59L10.3 9.45l-7.72 7.72c-.78.78-.78 2.05 0 2.83L4 21.41c.39.39.9.59 1.41.59.51 0 1.02-.2 1.41-.59l7.78-7.78 2.81-2.81c.8-.78.8-2.07 0-2.86zM5.41 20L4 18.59l7.72-7.72 1.47 1.35L5.41 20z\"/>\n",
              "  </svg>\n",
              "      </button>\n",
              "      \n",
              "  <style>\n",
              "    .colab-df-container {\n",
              "      display:flex;\n",
              "      flex-wrap:wrap;\n",
              "      gap: 12px;\n",
              "    }\n",
              "\n",
              "    .colab-df-convert {\n",
              "      background-color: #E8F0FE;\n",
              "      border: none;\n",
              "      border-radius: 50%;\n",
              "      cursor: pointer;\n",
              "      display: none;\n",
              "      fill: #1967D2;\n",
              "      height: 32px;\n",
              "      padding: 0 0 0 0;\n",
              "      width: 32px;\n",
              "    }\n",
              "\n",
              "    .colab-df-convert:hover {\n",
              "      background-color: #E2EBFA;\n",
              "      box-shadow: 0px 1px 2px rgba(60, 64, 67, 0.3), 0px 1px 3px 1px rgba(60, 64, 67, 0.15);\n",
              "      fill: #174EA6;\n",
              "    }\n",
              "\n",
              "    [theme=dark] .colab-df-convert {\n",
              "      background-color: #3B4455;\n",
              "      fill: #D2E3FC;\n",
              "    }\n",
              "\n",
              "    [theme=dark] .colab-df-convert:hover {\n",
              "      background-color: #434B5C;\n",
              "      box-shadow: 0px 1px 3px 1px rgba(0, 0, 0, 0.15);\n",
              "      filter: drop-shadow(0px 1px 2px rgba(0, 0, 0, 0.3));\n",
              "      fill: #FFFFFF;\n",
              "    }\n",
              "  </style>\n",
              "\n",
              "      <script>\n",
              "        const buttonEl =\n",
              "          document.querySelector('#df-97fadbbe-af6c-46fa-80fc-d9504fb5a030 button.colab-df-convert');\n",
              "        buttonEl.style.display =\n",
              "          google.colab.kernel.accessAllowed ? 'block' : 'none';\n",
              "\n",
              "        async function convertToInteractive(key) {\n",
              "          const element = document.querySelector('#df-97fadbbe-af6c-46fa-80fc-d9504fb5a030');\n",
              "          const dataTable =\n",
              "            await google.colab.kernel.invokeFunction('convertToInteractive',\n",
              "                                                     [key], {});\n",
              "          if (!dataTable) return;\n",
              "\n",
              "          const docLinkHtml = 'Like what you see? Visit the ' +\n",
              "            '<a target=\"_blank\" href=https://colab.research.google.com/notebooks/data_table.ipynb>data table notebook</a>'\n",
              "            + ' to learn more about interactive tables.';\n",
              "          element.innerHTML = '';\n",
              "          dataTable['output_type'] = 'display_data';\n",
              "          await google.colab.output.renderOutput(dataTable, element);\n",
              "          const docLink = document.createElement('div');\n",
              "          docLink.innerHTML = docLinkHtml;\n",
              "          element.appendChild(docLink);\n",
              "        }\n",
              "      </script>\n",
              "    </div>\n",
              "  </div>\n",
              "  "
            ]
          },
          "metadata": {},
          "execution_count": 30
        }
      ]
    },
    {
      "cell_type": "markdown",
      "source": [
        "<h4>The below analysis provides information by GL_Code and the invoice amount falling under each.</h4>\n",
        "\n",
        "* This can be used to track the type of transaction amount as per GL_Code description. The business can derive insights on its payables or recievables as the case may be.\n",
        "\n",
        "* The visualizaion of the information is presented in a bar graph form to have more clarity and insight.\n",
        "\n",
        "\n"
      ],
      "metadata": {
        "id": "pfPV5cJ6Qijh"
      }
    },
    {
      "cell_type": "code",
      "source": [
        "transaction_analytics = train.groupby(['GL_Code']).agg({'Inv_Amt':'sum'})\n",
        "transaction_analytics\n"
      ],
      "metadata": {
        "colab": {
          "base_uri": "https://localhost:8080/",
          "height": 363
        },
        "id": "wupMKhwOteVf",
        "outputId": "87abb89b-14ce-4032-868b-baf16005880d"
      },
      "execution_count": 31,
      "outputs": [
        {
          "output_type": "execute_result",
          "data": {
            "text/plain": [
              "             Inv_Amt\n",
              "GL_Code             \n",
              "GL-2182000  63401.57\n",
              "GL-6020600   1441.95\n",
              "GL-6050100  45909.73\n",
              "GL-6050310  76446.32\n",
              "GL-6060100   7708.36\n",
              "GL-6100410  17848.06\n",
              "GL-6100500  10393.48\n",
              "GL-6101400  36696.22\n",
              "GL-6121905   3972.81"
            ],
            "text/html": [
              "\n",
              "  <div id=\"df-9754c592-e465-4f6a-afaf-1aac882185b9\">\n",
              "    <div class=\"colab-df-container\">\n",
              "      <div>\n",
              "<style scoped>\n",
              "    .dataframe tbody tr th:only-of-type {\n",
              "        vertical-align: middle;\n",
              "    }\n",
              "\n",
              "    .dataframe tbody tr th {\n",
              "        vertical-align: top;\n",
              "    }\n",
              "\n",
              "    .dataframe thead th {\n",
              "        text-align: right;\n",
              "    }\n",
              "</style>\n",
              "<table border=\"1\" class=\"dataframe\">\n",
              "  <thead>\n",
              "    <tr style=\"text-align: right;\">\n",
              "      <th></th>\n",
              "      <th>Inv_Amt</th>\n",
              "    </tr>\n",
              "    <tr>\n",
              "      <th>GL_Code</th>\n",
              "      <th></th>\n",
              "    </tr>\n",
              "  </thead>\n",
              "  <tbody>\n",
              "    <tr>\n",
              "      <th>GL-2182000</th>\n",
              "      <td>63401.57</td>\n",
              "    </tr>\n",
              "    <tr>\n",
              "      <th>GL-6020600</th>\n",
              "      <td>1441.95</td>\n",
              "    </tr>\n",
              "    <tr>\n",
              "      <th>GL-6050100</th>\n",
              "      <td>45909.73</td>\n",
              "    </tr>\n",
              "    <tr>\n",
              "      <th>GL-6050310</th>\n",
              "      <td>76446.32</td>\n",
              "    </tr>\n",
              "    <tr>\n",
              "      <th>GL-6060100</th>\n",
              "      <td>7708.36</td>\n",
              "    </tr>\n",
              "    <tr>\n",
              "      <th>GL-6100410</th>\n",
              "      <td>17848.06</td>\n",
              "    </tr>\n",
              "    <tr>\n",
              "      <th>GL-6100500</th>\n",
              "      <td>10393.48</td>\n",
              "    </tr>\n",
              "    <tr>\n",
              "      <th>GL-6101400</th>\n",
              "      <td>36696.22</td>\n",
              "    </tr>\n",
              "    <tr>\n",
              "      <th>GL-6121905</th>\n",
              "      <td>3972.81</td>\n",
              "    </tr>\n",
              "  </tbody>\n",
              "</table>\n",
              "</div>\n",
              "      <button class=\"colab-df-convert\" onclick=\"convertToInteractive('df-9754c592-e465-4f6a-afaf-1aac882185b9')\"\n",
              "              title=\"Convert this dataframe to an interactive table.\"\n",
              "              style=\"display:none;\">\n",
              "        \n",
              "  <svg xmlns=\"http://www.w3.org/2000/svg\" height=\"24px\"viewBox=\"0 0 24 24\"\n",
              "       width=\"24px\">\n",
              "    <path d=\"M0 0h24v24H0V0z\" fill=\"none\"/>\n",
              "    <path d=\"M18.56 5.44l.94 2.06.94-2.06 2.06-.94-2.06-.94-.94-2.06-.94 2.06-2.06.94zm-11 1L8.5 8.5l.94-2.06 2.06-.94-2.06-.94L8.5 2.5l-.94 2.06-2.06.94zm10 10l.94 2.06.94-2.06 2.06-.94-2.06-.94-.94-2.06-.94 2.06-2.06.94z\"/><path d=\"M17.41 7.96l-1.37-1.37c-.4-.4-.92-.59-1.43-.59-.52 0-1.04.2-1.43.59L10.3 9.45l-7.72 7.72c-.78.78-.78 2.05 0 2.83L4 21.41c.39.39.9.59 1.41.59.51 0 1.02-.2 1.41-.59l7.78-7.78 2.81-2.81c.8-.78.8-2.07 0-2.86zM5.41 20L4 18.59l7.72-7.72 1.47 1.35L5.41 20z\"/>\n",
              "  </svg>\n",
              "      </button>\n",
              "      \n",
              "  <style>\n",
              "    .colab-df-container {\n",
              "      display:flex;\n",
              "      flex-wrap:wrap;\n",
              "      gap: 12px;\n",
              "    }\n",
              "\n",
              "    .colab-df-convert {\n",
              "      background-color: #E8F0FE;\n",
              "      border: none;\n",
              "      border-radius: 50%;\n",
              "      cursor: pointer;\n",
              "      display: none;\n",
              "      fill: #1967D2;\n",
              "      height: 32px;\n",
              "      padding: 0 0 0 0;\n",
              "      width: 32px;\n",
              "    }\n",
              "\n",
              "    .colab-df-convert:hover {\n",
              "      background-color: #E2EBFA;\n",
              "      box-shadow: 0px 1px 2px rgba(60, 64, 67, 0.3), 0px 1px 3px 1px rgba(60, 64, 67, 0.15);\n",
              "      fill: #174EA6;\n",
              "    }\n",
              "\n",
              "    [theme=dark] .colab-df-convert {\n",
              "      background-color: #3B4455;\n",
              "      fill: #D2E3FC;\n",
              "    }\n",
              "\n",
              "    [theme=dark] .colab-df-convert:hover {\n",
              "      background-color: #434B5C;\n",
              "      box-shadow: 0px 1px 3px 1px rgba(0, 0, 0, 0.15);\n",
              "      filter: drop-shadow(0px 1px 2px rgba(0, 0, 0, 0.3));\n",
              "      fill: #FFFFFF;\n",
              "    }\n",
              "  </style>\n",
              "\n",
              "      <script>\n",
              "        const buttonEl =\n",
              "          document.querySelector('#df-9754c592-e465-4f6a-afaf-1aac882185b9 button.colab-df-convert');\n",
              "        buttonEl.style.display =\n",
              "          google.colab.kernel.accessAllowed ? 'block' : 'none';\n",
              "\n",
              "        async function convertToInteractive(key) {\n",
              "          const element = document.querySelector('#df-9754c592-e465-4f6a-afaf-1aac882185b9');\n",
              "          const dataTable =\n",
              "            await google.colab.kernel.invokeFunction('convertToInteractive',\n",
              "                                                     [key], {});\n",
              "          if (!dataTable) return;\n",
              "\n",
              "          const docLinkHtml = 'Like what you see? Visit the ' +\n",
              "            '<a target=\"_blank\" href=https://colab.research.google.com/notebooks/data_table.ipynb>data table notebook</a>'\n",
              "            + ' to learn more about interactive tables.';\n",
              "          element.innerHTML = '';\n",
              "          dataTable['output_type'] = 'display_data';\n",
              "          await google.colab.output.renderOutput(dataTable, element);\n",
              "          const docLink = document.createElement('div');\n",
              "          docLink.innerHTML = docLinkHtml;\n",
              "          element.appendChild(docLink);\n",
              "        }\n",
              "      </script>\n",
              "    </div>\n",
              "  </div>\n",
              "  "
            ]
          },
          "metadata": {},
          "execution_count": 31
        }
      ]
    },
    {
      "cell_type": "code",
      "source": [
        "sns.barplot(x=transaction_analytics.index, y='Inv_Amt', data=transaction_analytics)"
      ],
      "metadata": {
        "colab": {
          "base_uri": "https://localhost:8080/",
          "height": 517
        },
        "id": "seNXrMFRx9wh",
        "outputId": "e27e72c4-a0cc-426a-da70-db082799d06d"
      },
      "execution_count": 32,
      "outputs": [
        {
          "output_type": "execute_result",
          "data": {
            "text/plain": [
              "<matplotlib.axes._subplots.AxesSubplot at 0x7fe0358f0df0>"
            ]
          },
          "metadata": {},
          "execution_count": 32
        },
        {
          "output_type": "display_data",
          "data": {
            "text/plain": [
              "<Figure size 864x576 with 1 Axes>"
            ],
            "image/png": "[encoded data removed]"
          },
          "metadata": {
            "needs_background": "light"
          }
        }
      ]
    },
    {
      "cell_type": "markdown",
      "source": [
        "<h4>Product_Category Count and visualization.</h4>"
      ],
      "metadata": {
        "id": "weqo3qrWyFck"
      }
    },
    {
      "cell_type": "code",
      "source": [
        "train['Product_Category'].value_counts()\n"
      ],
      "metadata": {
        "colab": {
          "base_uri": "https://localhost:8080/"
        },
        "id": "LF5hVSriyMOj",
        "outputId": "16f70bd5-dc1d-4dea-c110-90e986d099cc"
      },
      "execution_count": 33,
      "outputs": [
        {
          "output_type": "execute_result",
          "data": {
            "text/plain": [
              "CLASS-1758    1421\n",
              "CLASS-1274     939\n",
              "CLASS-1522     803\n",
              "CLASS-1250     440\n",
              "CLASS-1376     347\n",
              "CLASS-1963     215\n",
              "CLASS-1249     167\n",
              "CLASS-1828     107\n",
              "CLASS-2141     103\n",
              "CLASS-1721     103\n",
              "CLASS-1567      80\n",
              "CLASS-1919      61\n",
              "CLASS-2112      52\n",
              "CLASS-1850      51\n",
              "CLASS-1477      48\n",
              "CLASS-2241      36\n",
              "CLASS-1870      35\n",
              "CLASS-1309      31\n",
              "CLASS-2003      31\n",
              "CLASS-1429      30\n",
              "CLASS-1322      28\n",
              "CLASS-1964      27\n",
              "CLASS-1294      24\n",
              "CLASS-1770      19\n",
              "CLASS-1983      16\n",
              "CLASS-1867      15\n",
              "CLASS-1652      14\n",
              "CLASS-2038      13\n",
              "CLASS-1805      10\n",
              "CLASS-2152       9\n",
              "CLASS-1248       4\n",
              "CLASS-1688       4\n",
              "CLASS-2146       2\n",
              "CLASS-1838       1\n",
              "CLASS-1957       1\n",
              "CLASS-2015       1\n",
              "Name: Product_Category, dtype: int64"
            ]
          },
          "metadata": {},
          "execution_count": 33
        }
      ]
    },
    {
      "cell_type": "code",
      "source": [
        "sns.countplot(train['Product_Category'])\n",
        "plt.xticks(rotation=90)"
      ],
      "metadata": {
        "colab": {
          "base_uri": "https://localhost:8080/",
          "height": 601
        },
        "id": "W6Sm23ixyMLS",
        "outputId": "c9fd8904-7098-4e5d-be96-e8695d356b7b"
      },
      "execution_count": 34,
      "outputs": [
        {
          "output_type": "execute_result",
          "data": {
            "text/plain": [
              "(array([ 0,  1,  2,  3,  4,  5,  6,  7,  8,  9, 10, 11, 12, 13, 14, 15, 16,\n",
              "        17, 18, 19, 20, 21, 22, 23, 24, 25, 26, 27, 28, 29, 30, 31, 32, 33,\n",
              "        34, 35]), <a list of 36 Text major ticklabel objects>)"
            ]
          },
          "metadata": {},
          "execution_count": 34
        },
        {
          "output_type": "display_data",
          "data": {
            "text/plain": [
              "<Figure size 864x576 with 1 Axes>"
            ],
            "image/png": "[encoded data removed]"
          },
          "metadata": {
            "needs_background": "light"
          }
        }
      ]
    },
    {
      "cell_type": "markdown",
      "source": [
        "# Text Preprocessing"
      ],
      "metadata": {
        "id": "jffVk2odRKMO"
      }
    },
    {
      "cell_type": "markdown",
      "source": [
        "<h4>After analysing each feature the most suitable feature identified is <b>\" Item_description\"</b> which can be used to classify the <b>Product_category</b>.</h4>"
      ],
      "metadata": {
        "id": "3HTk4f8QHsap"
      }
    },
    {
      "cell_type": "markdown",
      "source": [
        "<h4>\"clean_data\" function is used to refine the item decription column.</h4>\n",
        "\n",
        "\n",
        "*   Removing stopwords\n",
        "*   Regular expression is used to remove special characters and numbers\n",
        "*   Lemmatization is used for conversion of words in to their root forms. "
      ],
      "metadata": {
        "id": "P3csbqzfI469"
      }
    },
    {
      "cell_type": "code",
      "source": [
        "def clean_data(df,col):\n",
        "  stop = set(stopwords.words('english'))\n",
        "  WN = WordNetLemmatizer()\n",
        "  corpus = []\n",
        "\n",
        "  for i in range(0,len(df)):\n",
        "      review = re.sub('[^a-zA-Z]', ' ',df[col][i])\n",
        "      review = review.lower()\n",
        "      review = review.split()\n",
        "      review = [WN.lemmatize(word) for word in review if not word in stopwords.words('english')]\n",
        "      review = ' '.join(review)\n",
        "      corpus.append(review)\n",
        "  df[col] = corpus\n",
        "\n",
        "  return 'DONE'\n"
      ],
      "metadata": {
        "id": "yMhWSKaUyMeW"
      },
      "execution_count": 35,
      "outputs": []
    },
    {
      "cell_type": "code",
      "source": [
        "clean_data(train,'Item_Description')\n",
        "clean_data(test,'Item_Description')\n"
      ],
      "metadata": {
        "colab": {
          "base_uri": "https://localhost:8080/",
          "height": 35
        },
        "id": "ezHr_psfRPYQ",
        "outputId": "bae12fb2-49f0-4601-e361-48b772580a77"
      },
      "execution_count": 36,
      "outputs": [
        {
          "output_type": "execute_result",
          "data": {
            "text/plain": [
              "'DONE'"
            ],
            "application/vnd.google.colaboratory.intrinsic+json": {
              "type": "string"
            }
          },
          "metadata": {},
          "execution_count": 36
        }
      ]
    },
    {
      "cell_type": "code",
      "source": [
        "main_train = train['Item_Description']\n",
        "main_test = test['Item_Description']"
      ],
      "metadata": {
        "id": "6CXCetUFZCC_"
      },
      "execution_count": 37,
      "outputs": []
    },
    {
      "cell_type": "markdown",
      "source": [
        "<h4> Model does not understand categorical value so coversion of words into vector is required</h4>\n",
        "\n",
        "\n",
        "*   To do that Tf-Idf Vectorizor is used.\n"
      ],
      "metadata": {
        "id": "2aeiSzWvZc3I"
      }
    },
    {
      "cell_type": "code",
      "source": [
        "vect = TfidfVectorizer(ngram_range=(1,2),min_df=10)\n",
        "vect.fit(main_train)\n",
        "final_train = vect.transform(main_train)\n",
        "final_test = vect.transform(main_test)"
      ],
      "metadata": {
        "id": "7odf2HRDUoqw"
      },
      "execution_count": 38,
      "outputs": []
    },
    {
      "cell_type": "markdown",
      "source": [
        "* Encoding Product_Category "
      ],
      "metadata": {
        "id": "EiKiplsytTUs"
      }
    },
    {
      "cell_type": "code",
      "source": [
        "le = LabelEncoder()\n",
        "target = le.fit_transform(train['Product_Category'])"
      ],
      "metadata": {
        "id": "lkHZiQDKUonW"
      },
      "execution_count": 39,
      "outputs": []
    },
    {
      "cell_type": "markdown",
      "source": [
        "* <h4>Spliting dataset for training and testing.</h4>"
      ],
      "metadata": {
        "id": "BqOA4_c9ufgh"
      }
    },
    {
      "cell_type": "code",
      "source": [
        "x_train,x_test,y_train,y_test = train_test_split(final_train, target, test_size=0.25, random_state=1)"
      ],
      "metadata": {
        "id": "L8OpXB_fUogK"
      },
      "execution_count": 40,
      "outputs": []
    },
    {
      "cell_type": "markdown",
      "source": [
        "# Ml Model\n",
        "* Since in the given data set, class distribution is skewed , XGboost Classifier has been brought into application.\n",
        "\n",
        "* Multi:softprob has been used to accomodate mutiple class situation"
      ],
      "metadata": {
        "id": "ZTLBV_fhjMPv"
      }
    },
    {
      "cell_type": "code",
      "source": [
        "model = XGBClassifier(max_depth=6,learning_rate=0.1,objective='multi:softprob',eval_metric='mlogloss',num_class=len(le.classes_))\n",
        "eval_set = [(x_train,y_train),(x_test,y_test)]\n",
        "model.fit(x_train,y_train,eval_set=eval_set)"
      ],
      "metadata": {
        "id": "Hk_mgFB0UoOr",
        "colab": {
          "base_uri": "https://localhost:8080/"
        },
        "outputId": "587689d1-7286-473a-e59d-60e1c342b38a"
      },
      "execution_count": 41,
      "outputs": [
        {
          "output_type": "stream",
          "name": "stdout",
          "text": [
            "[0]\tvalidation_0-mlogloss:2.02618\tvalidation_1-mlogloss:2.03159\n",
            "[1]\tvalidation_0-mlogloss:1.67867\tvalidation_1-mlogloss:1.68454\n",
            "[2]\tvalidation_0-mlogloss:1.43535\tvalidation_1-mlogloss:1.44155\n",
            "[3]\tvalidation_0-mlogloss:1.24837\tvalidation_1-mlogloss:1.25443\n",
            "[4]\tvalidation_0-mlogloss:1.0974\tvalidation_1-mlogloss:1.10367\n",
            "[5]\tvalidation_0-mlogloss:0.971659\tvalidation_1-mlogloss:0.977885\n",
            "[6]\tvalidation_0-mlogloss:0.864461\tvalidation_1-mlogloss:0.870561\n",
            "[7]\tvalidation_0-mlogloss:0.772121\tvalidation_1-mlogloss:0.778126\n",
            "[8]\tvalidation_0-mlogloss:0.691713\tvalidation_1-mlogloss:0.697609\n",
            "[9]\tvalidation_0-mlogloss:0.621122\tvalidation_1-mlogloss:0.626833\n",
            "[10]\tvalidation_0-mlogloss:0.558821\tvalidation_1-mlogloss:0.564501\n",
            "[11]\tvalidation_0-mlogloss:0.503577\tvalidation_1-mlogloss:0.509247\n",
            "[12]\tvalidation_0-mlogloss:0.454357\tvalidation_1-mlogloss:0.460007\n",
            "[13]\tvalidation_0-mlogloss:0.410362\tvalidation_1-mlogloss:0.415939\n",
            "[14]\tvalidation_0-mlogloss:0.371023\tvalidation_1-mlogloss:0.376622\n",
            "[15]\tvalidation_0-mlogloss:0.335724\tvalidation_1-mlogloss:0.341365\n",
            "[16]\tvalidation_0-mlogloss:0.303965\tvalidation_1-mlogloss:0.309627\n",
            "[17]\tvalidation_0-mlogloss:0.275341\tvalidation_1-mlogloss:0.280917\n",
            "[18]\tvalidation_0-mlogloss:0.249552\tvalidation_1-mlogloss:0.255083\n",
            "[19]\tvalidation_0-mlogloss:0.226274\tvalidation_1-mlogloss:0.231771\n",
            "[20]\tvalidation_0-mlogloss:0.205269\tvalidation_1-mlogloss:0.210681\n",
            "[21]\tvalidation_0-mlogloss:0.18632\tvalidation_1-mlogloss:0.191806\n",
            "[22]\tvalidation_0-mlogloss:0.169195\tvalidation_1-mlogloss:0.174669\n",
            "[23]\tvalidation_0-mlogloss:0.15371\tvalidation_1-mlogloss:0.159165\n",
            "[24]\tvalidation_0-mlogloss:0.139655\tvalidation_1-mlogloss:0.145229\n",
            "[25]\tvalidation_0-mlogloss:0.126944\tvalidation_1-mlogloss:0.132541\n",
            "[26]\tvalidation_0-mlogloss:0.115444\tvalidation_1-mlogloss:0.121056\n",
            "[27]\tvalidation_0-mlogloss:0.105042\tvalidation_1-mlogloss:0.110727\n",
            "[28]\tvalidation_0-mlogloss:0.095624\tvalidation_1-mlogloss:0.101412\n",
            "[29]\tvalidation_0-mlogloss:0.087101\tvalidation_1-mlogloss:0.092966\n",
            "[30]\tvalidation_0-mlogloss:0.079373\tvalidation_1-mlogloss:0.085336\n",
            "[31]\tvalidation_0-mlogloss:0.072378\tvalidation_1-mlogloss:0.078404\n",
            "[32]\tvalidation_0-mlogloss:0.066039\tvalidation_1-mlogloss:0.072139\n",
            "[33]\tvalidation_0-mlogloss:0.060294\tvalidation_1-mlogloss:0.066462\n",
            "[34]\tvalidation_0-mlogloss:0.055085\tvalidation_1-mlogloss:0.061324\n",
            "[35]\tvalidation_0-mlogloss:0.050361\tvalidation_1-mlogloss:0.056604\n",
            "[36]\tvalidation_0-mlogloss:0.046078\tvalidation_1-mlogloss:0.052323\n",
            "[37]\tvalidation_0-mlogloss:0.042192\tvalidation_1-mlogloss:0.048437\n",
            "[38]\tvalidation_0-mlogloss:0.038665\tvalidation_1-mlogloss:0.044915\n",
            "[39]\tvalidation_0-mlogloss:0.035463\tvalidation_1-mlogloss:0.041707\n",
            "[40]\tvalidation_0-mlogloss:0.032556\tvalidation_1-mlogloss:0.038812\n",
            "[41]\tvalidation_0-mlogloss:0.029917\tvalidation_1-mlogloss:0.036173\n",
            "[42]\tvalidation_0-mlogloss:0.027526\tvalidation_1-mlogloss:0.033773\n",
            "[43]\tvalidation_0-mlogloss:0.025354\tvalidation_1-mlogloss:0.031599\n",
            "[44]\tvalidation_0-mlogloss:0.023379\tvalidation_1-mlogloss:0.029628\n",
            "[45]\tvalidation_0-mlogloss:0.021584\tvalidation_1-mlogloss:0.027834\n",
            "[46]\tvalidation_0-mlogloss:0.019957\tvalidation_1-mlogloss:0.026213\n",
            "[47]\tvalidation_0-mlogloss:0.018482\tvalidation_1-mlogloss:0.024734\n",
            "[48]\tvalidation_0-mlogloss:0.017137\tvalidation_1-mlogloss:0.023403\n",
            "[49]\tvalidation_0-mlogloss:0.015915\tvalidation_1-mlogloss:0.022178\n",
            "[50]\tvalidation_0-mlogloss:0.0148\tvalidation_1-mlogloss:0.021053\n",
            "[51]\tvalidation_0-mlogloss:0.013785\tvalidation_1-mlogloss:0.020026\n",
            "[52]\tvalidation_0-mlogloss:0.012871\tvalidation_1-mlogloss:0.019103\n",
            "[53]\tvalidation_0-mlogloss:0.012037\tvalidation_1-mlogloss:0.018297\n",
            "[54]\tvalidation_0-mlogloss:0.011279\tvalidation_1-mlogloss:0.017536\n",
            "[55]\tvalidation_0-mlogloss:0.010591\tvalidation_1-mlogloss:0.016839\n",
            "[56]\tvalidation_0-mlogloss:0.009963\tvalidation_1-mlogloss:0.01621\n",
            "[57]\tvalidation_0-mlogloss:0.00939\tvalidation_1-mlogloss:0.015635\n",
            "[58]\tvalidation_0-mlogloss:0.008868\tvalidation_1-mlogloss:0.015113\n",
            "[59]\tvalidation_0-mlogloss:0.008395\tvalidation_1-mlogloss:0.014645\n",
            "[60]\tvalidation_0-mlogloss:0.007961\tvalidation_1-mlogloss:0.014214\n",
            "[61]\tvalidation_0-mlogloss:0.007565\tvalidation_1-mlogloss:0.013821\n",
            "[62]\tvalidation_0-mlogloss:0.007205\tvalidation_1-mlogloss:0.013461\n",
            "[63]\tvalidation_0-mlogloss:0.006874\tvalidation_1-mlogloss:0.013133\n",
            "[64]\tvalidation_0-mlogloss:0.006571\tvalidation_1-mlogloss:0.012833\n",
            "[65]\tvalidation_0-mlogloss:0.006308\tvalidation_1-mlogloss:0.012562\n",
            "[66]\tvalidation_0-mlogloss:0.006072\tvalidation_1-mlogloss:0.012331\n",
            "[67]\tvalidation_0-mlogloss:0.005874\tvalidation_1-mlogloss:0.012129\n",
            "[68]\tvalidation_0-mlogloss:0.005692\tvalidation_1-mlogloss:0.011944\n",
            "[69]\tvalidation_0-mlogloss:0.005529\tvalidation_1-mlogloss:0.011782\n",
            "[70]\tvalidation_0-mlogloss:0.005383\tvalidation_1-mlogloss:0.011637\n",
            "[71]\tvalidation_0-mlogloss:0.00525\tvalidation_1-mlogloss:0.011505\n",
            "[72]\tvalidation_0-mlogloss:0.005133\tvalidation_1-mlogloss:0.011391\n",
            "[73]\tvalidation_0-mlogloss:0.00503\tvalidation_1-mlogloss:0.01129\n",
            "[74]\tvalidation_0-mlogloss:0.004935\tvalidation_1-mlogloss:0.011198\n",
            "[75]\tvalidation_0-mlogloss:0.004846\tvalidation_1-mlogloss:0.011112\n",
            "[76]\tvalidation_0-mlogloss:0.004768\tvalidation_1-mlogloss:0.011038\n",
            "[77]\tvalidation_0-mlogloss:0.004695\tvalidation_1-mlogloss:0.010965\n",
            "[78]\tvalidation_0-mlogloss:0.004627\tvalidation_1-mlogloss:0.0109\n",
            "[79]\tvalidation_0-mlogloss:0.004563\tvalidation_1-mlogloss:0.010838\n",
            "[80]\tvalidation_0-mlogloss:0.004503\tvalidation_1-mlogloss:0.010783\n",
            "[81]\tvalidation_0-mlogloss:0.004447\tvalidation_1-mlogloss:0.010727\n",
            "[82]\tvalidation_0-mlogloss:0.004395\tvalidation_1-mlogloss:0.010678\n",
            "[83]\tvalidation_0-mlogloss:0.004348\tvalidation_1-mlogloss:0.010632\n",
            "[84]\tvalidation_0-mlogloss:0.004305\tvalidation_1-mlogloss:0.010591\n",
            "[85]\tvalidation_0-mlogloss:0.004263\tvalidation_1-mlogloss:0.010551\n",
            "[86]\tvalidation_0-mlogloss:0.004224\tvalidation_1-mlogloss:0.010515\n",
            "[87]\tvalidation_0-mlogloss:0.004188\tvalidation_1-mlogloss:0.010479\n",
            "[88]\tvalidation_0-mlogloss:0.004153\tvalidation_1-mlogloss:0.010449\n",
            "[89]\tvalidation_0-mlogloss:0.00412\tvalidation_1-mlogloss:0.010421\n",
            "[90]\tvalidation_0-mlogloss:0.004089\tvalidation_1-mlogloss:0.010392\n",
            "[91]\tvalidation_0-mlogloss:0.004062\tvalidation_1-mlogloss:0.010369\n",
            "[92]\tvalidation_0-mlogloss:0.004037\tvalidation_1-mlogloss:0.010345\n",
            "[93]\tvalidation_0-mlogloss:0.004012\tvalidation_1-mlogloss:0.010324\n",
            "[94]\tvalidation_0-mlogloss:0.003989\tvalidation_1-mlogloss:0.010303\n",
            "[95]\tvalidation_0-mlogloss:0.003967\tvalidation_1-mlogloss:0.010285\n",
            "[96]\tvalidation_0-mlogloss:0.003946\tvalidation_1-mlogloss:0.010266\n",
            "[97]\tvalidation_0-mlogloss:0.003927\tvalidation_1-mlogloss:0.010249\n",
            "[98]\tvalidation_0-mlogloss:0.003908\tvalidation_1-mlogloss:0.010233\n",
            "[99]\tvalidation_0-mlogloss:0.00389\tvalidation_1-mlogloss:0.010219\n"
          ]
        },
        {
          "output_type": "execute_result",
          "data": {
            "text/plain": [
              "XGBClassifier(eval_metric='mlogloss', max_depth=6, num_class=36,\n",
              "              objective='multi:softprob')"
            ]
          },
          "metadata": {},
          "execution_count": 41
        }
      ]
    },
    {
      "cell_type": "markdown",
      "source": [
        "# Model Evaluation\n",
        "* To check the performance of the model different metrics are used such as <b>Accuracy score, Classification report, Cross validation score and Residual plot.</b>"
      ],
      "metadata": {
        "id": "8Ujz02JVi6pZ"
      }
    },
    {
      "cell_type": "markdown",
      "source": [
        "* Accuracy Score"
      ],
      "metadata": {
        "id": "3E3deBxkOx_E"
      }
    },
    {
      "cell_type": "code",
      "source": [
        "y_pred = model.predict_proba(x_test)\n",
        "model_score = model.score(x_test,y_test)\n",
        "print(\"Model Score is:\",round((model_score*100),2))"
      ],
      "metadata": {
        "colab": {
          "base_uri": "https://localhost:8080/"
        },
        "id": "ljlXryzTJhTD",
        "outputId": "f5c43ee9-125d-4ada-d20a-81a3486ae4a3"
      },
      "execution_count": 42,
      "outputs": [
        {
          "output_type": "stream",
          "name": "stdout",
          "text": [
            "Model Score is: 99.85\n"
          ]
        }
      ]
    },
    {
      "cell_type": "markdown",
      "source": [
        "* Classification Report"
      ],
      "metadata": {
        "id": "5d2R2NXmpfft"
      }
    },
    {
      "cell_type": "code",
      "source": [
        "val_pred = np.argmax(model.predict_proba(x_test), axis=-1)\n",
        "print(classification_report(y_test,val_pred))"
      ],
      "metadata": {
        "colab": {
          "base_uri": "https://localhost:8080/"
        },
        "id": "fTx_VTmDoy0p",
        "outputId": "1fb4dfa7-7444-4b0d-dffd-c61e37544f69"
      },
      "execution_count": 43,
      "outputs": [
        {
          "output_type": "stream",
          "name": "stdout",
          "text": [
            "              precision    recall  f1-score   support\n",
            "\n",
            "           0       0.00      0.00      0.00         0\n",
            "           1       1.00      1.00      1.00        47\n",
            "           2       1.00      1.00      1.00        96\n",
            "           3       1.00      1.00      1.00       239\n",
            "           4       1.00      1.00      1.00         4\n",
            "           5       1.00      1.00      1.00        10\n",
            "           6       1.00      1.00      1.00         6\n",
            "           7       1.00      1.00      1.00        99\n",
            "           8       1.00      1.00      1.00         9\n",
            "           9       1.00      1.00      1.00        12\n",
            "          10       1.00      1.00      1.00       210\n",
            "          11       1.00      1.00      1.00        28\n",
            "          12       1.00      1.00      1.00         3\n",
            "          13       1.00      0.50      0.67         2\n",
            "          14       1.00      1.00      1.00        20\n",
            "          15       1.00      1.00      1.00       339\n",
            "          16       1.00      1.00      1.00         6\n",
            "          17       1.00      1.00      1.00         3\n",
            "          18       1.00      1.00      1.00        23\n",
            "          20       1.00      1.00      1.00        17\n",
            "          21       1.00      1.00      1.00         6\n",
            "          22       1.00      1.00      1.00         6\n",
            "          23       1.00      1.00      1.00        16\n",
            "          25       1.00      1.00      1.00        50\n",
            "          26       1.00      1.00      1.00         5\n",
            "          27       1.00      1.00      1.00         5\n",
            "          28       0.86      1.00      0.92         6\n",
            "          30       1.00      1.00      1.00         2\n",
            "          31       1.00      1.00      1.00        13\n",
            "          32       1.00      1.00      1.00        27\n",
            "          33       0.00      0.00      0.00         1\n",
            "          34       1.00      1.00      1.00         4\n",
            "          35       1.00      1.00      1.00         8\n",
            "\n",
            "    accuracy                           1.00      1322\n",
            "   macro avg       0.94      0.92      0.93      1322\n",
            "weighted avg       1.00      1.00      1.00      1322\n",
            "\n"
          ]
        }
      ]
    },
    {
      "cell_type": "markdown",
      "source": [
        "* Cross validation score"
      ],
      "metadata": {
        "id": "farX6GUCvYPr"
      }
    },
    {
      "cell_type": "code",
      "source": [
        "from sklearn.model_selection import cross_val_score\n",
        "cv_score = cross_val_score(model,final_train,target,cv=10)\n",
        "cv_score = pd.DataFrame(cv_score, columns=['cross_val_score'])"
      ],
      "metadata": {
        "id": "aMlT59XQrWOu"
      },
      "execution_count": 44,
      "outputs": []
    },
    {
      "cell_type": "code",
      "source": [
        "cv_score"
      ],
      "metadata": {
        "colab": {
          "base_uri": "https://localhost:8080/",
          "height": 363
        },
        "id": "8RDWFGndxDR-",
        "outputId": "6c396513-eb40-49da-a78c-91d041a51176"
      },
      "execution_count": 45,
      "outputs": [
        {
          "output_type": "execute_result",
          "data": {
            "text/plain": [
              "   cross_val_score\n",
              "0         1.000000\n",
              "1         1.000000\n",
              "2         0.996219\n",
              "3         0.998110\n",
              "4         0.998110\n",
              "5         0.998110\n",
              "6         0.996219\n",
              "7         0.998110\n",
              "8         1.000000\n",
              "9         1.000000"
            ],
            "text/html": [
              "\n",
              "  <div id=\"df-e0b113a4-e42b-4e81-a467-feb35861687c\">\n",
              "    <div class=\"colab-df-container\">\n",
              "      <div>\n",
              "<style scoped>\n",
              "    .dataframe tbody tr th:only-of-type {\n",
              "        vertical-align: middle;\n",
              "    }\n",
              "\n",
              "    .dataframe tbody tr th {\n",
              "        vertical-align: top;\n",
              "    }\n",
              "\n",
              "    .dataframe thead th {\n",
              "        text-align: right;\n",
              "    }\n",
              "</style>\n",
              "<table border=\"1\" class=\"dataframe\">\n",
              "  <thead>\n",
              "    <tr style=\"text-align: right;\">\n",
              "      <th></th>\n",
              "      <th>cross_val_score</th>\n",
              "    </tr>\n",
              "  </thead>\n",
              "  <tbody>\n",
              "    <tr>\n",
              "      <th>0</th>\n",
              "      <td>1.000000</td>\n",
              "    </tr>\n",
              "    <tr>\n",
              "      <th>1</th>\n",
              "      <td>1.000000</td>\n",
              "    </tr>\n",
              "    <tr>\n",
              "      <th>2</th>\n",
              "      <td>0.996219</td>\n",
              "    </tr>\n",
              "    <tr>\n",
              "      <th>3</th>\n",
              "      <td>0.998110</td>\n",
              "    </tr>\n",
              "    <tr>\n",
              "      <th>4</th>\n",
              "      <td>0.998110</td>\n",
              "    </tr>\n",
              "    <tr>\n",
              "      <th>5</th>\n",
              "      <td>0.998110</td>\n",
              "    </tr>\n",
              "    <tr>\n",
              "      <th>6</th>\n",
              "      <td>0.996219</td>\n",
              "    </tr>\n",
              "    <tr>\n",
              "      <th>7</th>\n",
              "      <td>0.998110</td>\n",
              "    </tr>\n",
              "    <tr>\n",
              "      <th>8</th>\n",
              "      <td>1.000000</td>\n",
              "    </tr>\n",
              "    <tr>\n",
              "      <th>9</th>\n",
              "      <td>1.000000</td>\n",
              "    </tr>\n",
              "  </tbody>\n",
              "</table>\n",
              "</div>\n",
              "      <button class=\"colab-df-convert\" onclick=\"convertToInteractive('df-e0b113a4-e42b-4e81-a467-feb35861687c')\"\n",
              "              title=\"Convert this dataframe to an interactive table.\"\n",
              "              style=\"display:none;\">\n",
              "        \n",
              "  <svg xmlns=\"http://www.w3.org/2000/svg\" height=\"24px\"viewBox=\"0 0 24 24\"\n",
              "       width=\"24px\">\n",
              "    <path d=\"M0 0h24v24H0V0z\" fill=\"none\"/>\n",
              "    <path d=\"M18.56 5.44l.94 2.06.94-2.06 2.06-.94-2.06-.94-.94-2.06-.94 2.06-2.06.94zm-11 1L8.5 8.5l.94-2.06 2.06-.94-2.06-.94L8.5 2.5l-.94 2.06-2.06.94zm10 10l.94 2.06.94-2.06 2.06-.94-2.06-.94-.94-2.06-.94 2.06-2.06.94z\"/><path d=\"M17.41 7.96l-1.37-1.37c-.4-.4-.92-.59-1.43-.59-.52 0-1.04.2-1.43.59L10.3 9.45l-7.72 7.72c-.78.78-.78 2.05 0 2.83L4 21.41c.39.39.9.59 1.41.59.51 0 1.02-.2 1.41-.59l7.78-7.78 2.81-2.81c.8-.78.8-2.07 0-2.86zM5.41 20L4 18.59l7.72-7.72 1.47 1.35L5.41 20z\"/>\n",
              "  </svg>\n",
              "      </button>\n",
              "      \n",
              "  <style>\n",
              "    .colab-df-container {\n",
              "      display:flex;\n",
              "      flex-wrap:wrap;\n",
              "      gap: 12px;\n",
              "    }\n",
              "\n",
              "    .colab-df-convert {\n",
              "      background-color: #E8F0FE;\n",
              "      border: none;\n",
              "      border-radius: 50%;\n",
              "      cursor: pointer;\n",
              "      display: none;\n",
              "      fill: #1967D2;\n",
              "      height: 32px;\n",
              "      padding: 0 0 0 0;\n",
              "      width: 32px;\n",
              "    }\n",
              "\n",
              "    .colab-df-convert:hover {\n",
              "      background-color: #E2EBFA;\n",
              "      box-shadow: 0px 1px 2px rgba(60, 64, 67, 0.3), 0px 1px 3px 1px rgba(60, 64, 67, 0.15);\n",
              "      fill: #174EA6;\n",
              "    }\n",
              "\n",
              "    [theme=dark] .colab-df-convert {\n",
              "      background-color: #3B4455;\n",
              "      fill: #D2E3FC;\n",
              "    }\n",
              "\n",
              "    [theme=dark] .colab-df-convert:hover {\n",
              "      background-color: #434B5C;\n",
              "      box-shadow: 0px 1px 3px 1px rgba(0, 0, 0, 0.15);\n",
              "      filter: drop-shadow(0px 1px 2px rgba(0, 0, 0, 0.3));\n",
              "      fill: #FFFFFF;\n",
              "    }\n",
              "  </style>\n",
              "\n",
              "      <script>\n",
              "        const buttonEl =\n",
              "          document.querySelector('#df-e0b113a4-e42b-4e81-a467-feb35861687c button.colab-df-convert');\n",
              "        buttonEl.style.display =\n",
              "          google.colab.kernel.accessAllowed ? 'block' : 'none';\n",
              "\n",
              "        async function convertToInteractive(key) {\n",
              "          const element = document.querySelector('#df-e0b113a4-e42b-4e81-a467-feb35861687c');\n",
              "          const dataTable =\n",
              "            await google.colab.kernel.invokeFunction('convertToInteractive',\n",
              "                                                     [key], {});\n",
              "          if (!dataTable) return;\n",
              "\n",
              "          const docLinkHtml = 'Like what you see? Visit the ' +\n",
              "            '<a target=\"_blank\" href=https://colab.research.google.com/notebooks/data_table.ipynb>data table notebook</a>'\n",
              "            + ' to learn more about interactive tables.';\n",
              "          element.innerHTML = '';\n",
              "          dataTable['output_type'] = 'display_data';\n",
              "          await google.colab.output.renderOutput(dataTable, element);\n",
              "          const docLink = document.createElement('div');\n",
              "          docLink.innerHTML = docLinkHtml;\n",
              "          element.appendChild(docLink);\n",
              "        }\n",
              "      </script>\n",
              "    </div>\n",
              "  </div>\n",
              "  "
            ]
          },
          "metadata": {},
          "execution_count": 45
        }
      ]
    },
    {
      "cell_type": "code",
      "source": [
        "print(f'Cross Validation Score: {round(cv_score.iloc[:,0].mean()*100,2)}')"
      ],
      "metadata": {
        "colab": {
          "base_uri": "https://localhost:8080/"
        },
        "id": "j5kIjg2axG2g",
        "outputId": "87810fb3-8b76-493d-9914-a783fc75943e"
      },
      "execution_count": 46,
      "outputs": [
        {
          "output_type": "stream",
          "name": "stdout",
          "text": [
            "Cross Validation Score: 99.85\n"
          ]
        }
      ]
    },
    {
      "cell_type": "markdown",
      "source": [
        "<h4>Ploting residuals</h4>\n",
        "\n",
        "\n",
        "*   The variance between train and test is minimal which infers that model is not overfitting.\n",
        "\n",
        "\n"
      ],
      "metadata": {
        "id": "pok1NGKBO1yC"
      }
    },
    {
      "cell_type": "code",
      "source": [
        "eval_result = model.evals_result_\n",
        "train_mlog = eval_result['validation_0']['mlogloss']\n",
        "test_mlog = eval_result['validation_1']['mlogloss']\n"
      ],
      "metadata": {
        "id": "lyI6wTsbAxet"
      },
      "execution_count": 47,
      "outputs": []
    },
    {
      "cell_type": "code",
      "source": [
        "plt.plot(train_mlog, label='Train Error')\n",
        "plt.plot(test_mlog, label='Test Error')\n",
        "plt.xlabel(\"No. Of Trees\")\n",
        "plt.ylabel('Loss')\n",
        "plt.legend()"
      ],
      "metadata": {
        "colab": {
          "base_uri": "https://localhost:8080/",
          "height": 514
        },
        "id": "qX2V9xkPM9FZ",
        "outputId": "18a77a69-1b82-4c82-cdda-dfd061cadd79"
      },
      "execution_count": 53,
      "outputs": [
        {
          "output_type": "execute_result",
          "data": {
            "text/plain": [
              "<matplotlib.legend.Legend at 0x7fe030e0bd00>"
            ]
          },
          "metadata": {},
          "execution_count": 53
        },
        {
          "output_type": "display_data",
          "data": {
            "text/plain": [
              "<Figure size 864x576 with 1 Axes>"
            ],
            "image/png": "[encoded data removed]"
          },
          "metadata": {
            "needs_background": "light"
          }
        }
      ]
    },
    {
      "cell_type": "markdown",
      "source": [
        "# Submission\n",
        "Test data prediction is stored in Submission.csv file"
      ],
      "metadata": {
        "id": "4mgUUzr2ibYC"
      }
    },
    {
      "cell_type": "code",
      "source": [
        "test_pred = model.predict_proba(final_test)"
      ],
      "metadata": {
        "id": "cpUWPLpZdyi7"
      },
      "execution_count": 49,
      "outputs": []
    },
    {
      "cell_type": "code",
      "source": [
        "result_sub = test[['Inv_Id']].copy()\n",
        "result_sub['Product_Category'] = le.inverse_transform(np.argmax(test_pred, axis=1))\n"
      ],
      "metadata": {
        "id": "LXW-2JLhgYiA"
      },
      "execution_count": 50,
      "outputs": []
    },
    {
      "cell_type": "code",
      "source": [
        "result_sub.head()"
      ],
      "metadata": {
        "colab": {
          "base_uri": "https://localhost:8080/",
          "height": 206
        },
        "id": "EPS_UnUShmbm",
        "outputId": "25075684-032e-4e32-8809-84fe0cf054e9"
      },
      "execution_count": 51,
      "outputs": [
        {
          "output_type": "execute_result",
          "data": {
            "text/plain": [
              "   Inv_Id Product_Category\n",
              "0   15041       CLASS-1274\n",
              "1   15094       CLASS-1963\n",
              "2   15112       CLASS-1758\n",
              "3   15179       CLASS-1522\n",
              "4   15212       CLASS-1758"
            ],
            "text/html": [
              "\n",
              "  <div id=\"df-f679d9a6-145b-466c-8489-504a17cd777f\">\n",
              "    <div class=\"colab-df-container\">\n",
              "      <div>\n",
              "<style scoped>\n",
              "    .dataframe tbody tr th:only-of-type {\n",
              "        vertical-align: middle;\n",
              "    }\n",
              "\n",
              "    .dataframe tbody tr th {\n",
              "        vertical-align: top;\n",
              "    }\n",
              "\n",
              "    .dataframe thead th {\n",
              "        text-align: right;\n",
              "    }\n",
              "</style>\n",
              "<table border=\"1\" class=\"dataframe\">\n",
              "  <thead>\n",
              "    <tr style=\"text-align: right;\">\n",
              "      <th></th>\n",
              "      <th>Inv_Id</th>\n",
              "      <th>Product_Category</th>\n",
              "    </tr>\n",
              "  </thead>\n",
              "  <tbody>\n",
              "    <tr>\n",
              "      <th>0</th>\n",
              "      <td>15041</td>\n",
              "      <td>CLASS-1274</td>\n",
              "    </tr>\n",
              "    <tr>\n",
              "      <th>1</th>\n",
              "      <td>15094</td>\n",
              "      <td>CLASS-1963</td>\n",
              "    </tr>\n",
              "    <tr>\n",
              "      <th>2</th>\n",
              "      <td>15112</td>\n",
              "      <td>CLASS-1758</td>\n",
              "    </tr>\n",
              "    <tr>\n",
              "      <th>3</th>\n",
              "      <td>15179</td>\n",
              "      <td>CLASS-1522</td>\n",
              "    </tr>\n",
              "    <tr>\n",
              "      <th>4</th>\n",
              "      <td>15212</td>\n",
              "      <td>CLASS-1758</td>\n",
              "    </tr>\n",
              "  </tbody>\n",
              "</table>\n",
              "</div>\n",
              "      <button class=\"colab-df-convert\" onclick=\"convertToInteractive('df-f679d9a6-145b-466c-8489-504a17cd777f')\"\n",
              "              title=\"Convert this dataframe to an interactive table.\"\n",
              "              style=\"display:none;\">\n",
              "        \n",
              "  <svg xmlns=\"http://www.w3.org/2000/svg\" height=\"24px\"viewBox=\"0 0 24 24\"\n",
              "       width=\"24px\">\n",
              "    <path d=\"M0 0h24v24H0V0z\" fill=\"none\"/>\n",
              "    <path d=\"M18.56 5.44l.94 2.06.94-2.06 2.06-.94-2.06-.94-.94-2.06-.94 2.06-2.06.94zm-11 1L8.5 8.5l.94-2.06 2.06-.94-2.06-.94L8.5 2.5l-.94 2.06-2.06.94zm10 10l.94 2.06.94-2.06 2.06-.94-2.06-.94-.94-2.06-.94 2.06-2.06.94z\"/><path d=\"M17.41 7.96l-1.37-1.37c-.4-.4-.92-.59-1.43-.59-.52 0-1.04.2-1.43.59L10.3 9.45l-7.72 7.72c-.78.78-.78 2.05 0 2.83L4 21.41c.39.39.9.59 1.41.59.51 0 1.02-.2 1.41-.59l7.78-7.78 2.81-2.81c.8-.78.8-2.07 0-2.86zM5.41 20L4 18.59l7.72-7.72 1.47 1.35L5.41 20z\"/>\n",
              "  </svg>\n",
              "      </button>\n",
              "      \n",
              "  <style>\n",
              "    .colab-df-container {\n",
              "      display:flex;\n",
              "      flex-wrap:wrap;\n",
              "      gap: 12px;\n",
              "    }\n",
              "\n",
              "    .colab-df-convert {\n",
              "      background-color: #E8F0FE;\n",
              "      border: none;\n",
              "      border-radius: 50%;\n",
              "      cursor: pointer;\n",
              "      display: none;\n",
              "      fill: #1967D2;\n",
              "      height: 32px;\n",
              "      padding: 0 0 0 0;\n",
              "      width: 32px;\n",
              "    }\n",
              "\n",
              "    .colab-df-convert:hover {\n",
              "      background-color: #E2EBFA;\n",
              "      box-shadow: 0px 1px 2px rgba(60, 64, 67, 0.3), 0px 1px 3px 1px rgba(60, 64, 67, 0.15);\n",
              "      fill: #174EA6;\n",
              "    }\n",
              "\n",
              "    [theme=dark] .colab-df-convert {\n",
              "      background-color: #3B4455;\n",
              "      fill: #D2E3FC;\n",
              "    }\n",
              "\n",
              "    [theme=dark] .colab-df-convert:hover {\n",
              "      background-color: #434B5C;\n",
              "      box-shadow: 0px 1px 3px 1px rgba(0, 0, 0, 0.15);\n",
              "      filter: drop-shadow(0px 1px 2px rgba(0, 0, 0, 0.3));\n",
              "      fill: #FFFFFF;\n",
              "    }\n",
              "  </style>\n",
              "\n",
              "      <script>\n",
              "        const buttonEl =\n",
              "          document.querySelector('#df-f679d9a6-145b-466c-8489-504a17cd777f button.colab-df-convert');\n",
              "        buttonEl.style.display =\n",
              "          google.colab.kernel.accessAllowed ? 'block' : 'none';\n",
              "\n",
              "        async function convertToInteractive(key) {\n",
              "          const element = document.querySelector('#df-f679d9a6-145b-466c-8489-504a17cd777f');\n",
              "          const dataTable =\n",
              "            await google.colab.kernel.invokeFunction('convertToInteractive',\n",
              "                                                     [key], {});\n",
              "          if (!dataTable) return;\n",
              "\n",
              "          const docLinkHtml = 'Like what you see? Visit the ' +\n",
              "            '<a target=\"_blank\" href=https://colab.research.google.com/notebooks/data_table.ipynb>data table notebook</a>'\n",
              "            + ' to learn more about interactive tables.';\n",
              "          element.innerHTML = '';\n",
              "          dataTable['output_type'] = 'display_data';\n",
              "          await google.colab.output.renderOutput(dataTable, element);\n",
              "          const docLink = document.createElement('div');\n",
              "          docLink.innerHTML = docLinkHtml;\n",
              "          element.appendChild(docLink);\n",
              "        }\n",
              "      </script>\n",
              "    </div>\n",
              "  </div>\n",
              "  "
            ]
          },
          "metadata": {},
          "execution_count": 51
        }
      ]
    },
    {
      "cell_type": "code",
      "source": [
        "result_sub.to_csv('submission.csv',index=False)"
      ],
      "metadata": {
        "id": "kedJlevQPp5K"
      },
      "execution_count": 54,
      "outputs": []
    }
  ]
}